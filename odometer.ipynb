{
 "cells": [
  {
   "cell_type": "code",
   "execution_count": 73,
   "metadata": {},
   "outputs": [],
   "source": [
    "import pandas as pd\n",
    "import numpy as np\n",
    "import matplotlib.pyplot as plt\n",
    "import seaborn as sns"
   ]
  },
  {
   "cell_type": "code",
   "execution_count": 74,
   "metadata": {},
   "outputs": [],
   "source": [
    "%matplotlib inline\n",
    "sns.set_style('darkgrid')"
   ]
  },
  {
   "cell_type": "code",
   "execution_count": 75,
   "metadata": {},
   "outputs": [
    {
     "data": {
      "text/html": [
       "<div>\n",
       "<style scoped>\n",
       "    .dataframe tbody tr th:only-of-type {\n",
       "        vertical-align: middle;\n",
       "    }\n",
       "\n",
       "    .dataframe tbody tr th {\n",
       "        vertical-align: top;\n",
       "    }\n",
       "\n",
       "    .dataframe thead th {\n",
       "        text-align: right;\n",
       "    }\n",
       "</style>\n",
       "<table border=\"1\" class=\"dataframe\">\n",
       "  <thead>\n",
       "    <tr style=\"text-align: right;\">\n",
       "      <th></th>\n",
       "      <th>vin</th>\n",
       "      <th>start_timstm</th>\n",
       "      <th>end_timstm</th>\n",
       "      <th>start_odometer</th>\n",
       "      <th>end_odometer</th>\n",
       "    </tr>\n",
       "  </thead>\n",
       "  <tbody>\n",
       "    <tr>\n",
       "      <th>0</th>\n",
       "      <td>1G1RA6E41FU100024</td>\n",
       "      <td>44000.61</td>\n",
       "      <td>44000.63</td>\n",
       "      <td>122284.31</td>\n",
       "      <td>122296.28</td>\n",
       "    </tr>\n",
       "    <tr>\n",
       "      <th>1</th>\n",
       "      <td>1G1RA6E41FU100024</td>\n",
       "      <td>44001.13</td>\n",
       "      <td>44001.13</td>\n",
       "      <td>122296.28</td>\n",
       "      <td>122300.89</td>\n",
       "    </tr>\n",
       "    <tr>\n",
       "      <th>2</th>\n",
       "      <td>1G1RA6E41FU100024</td>\n",
       "      <td>44001.17</td>\n",
       "      <td>44001.18</td>\n",
       "      <td>122300.89</td>\n",
       "      <td>122305.48</td>\n",
       "    </tr>\n",
       "    <tr>\n",
       "      <th>3</th>\n",
       "      <td>1G1RA6E41FU100024</td>\n",
       "      <td>44001.25</td>\n",
       "      <td>44001.25</td>\n",
       "      <td>122305.48</td>\n",
       "      <td>122305.52</td>\n",
       "    </tr>\n",
       "    <tr>\n",
       "      <th>4</th>\n",
       "      <td>1G1RC6E49FU100007</td>\n",
       "      <td>44000.63</td>\n",
       "      <td>44000.64</td>\n",
       "      <td>88171.53</td>\n",
       "      <td>88177.53</td>\n",
       "    </tr>\n",
       "  </tbody>\n",
       "</table>\n",
       "</div>"
      ],
      "text/plain": [
       "                 vin  start_timstm  end_timstm  start_odometer  end_odometer\n",
       "0  1G1RA6E41FU100024      44000.61    44000.63       122284.31     122296.28\n",
       "1  1G1RA6E41FU100024      44001.13    44001.13       122296.28     122300.89\n",
       "2  1G1RA6E41FU100024      44001.17    44001.18       122300.89     122305.48\n",
       "3  1G1RA6E41FU100024      44001.25    44001.25       122305.48     122305.52\n",
       "4  1G1RC6E49FU100007      44000.63    44000.64        88171.53      88177.53"
      ]
     },
     "execution_count": 75,
     "metadata": {},
     "output_type": "execute_result"
    }
   ],
   "source": [
    "data = pd.read_csv('auto_example_dataset.csv')\n",
    "data.head()"
   ]
  },
  {
   "cell_type": "code",
   "execution_count": 76,
   "metadata": {},
   "outputs": [
    {
     "name": "stdout",
     "output_type": "stream",
     "text": [
      "<class 'pandas.core.frame.DataFrame'>\n",
      "RangeIndex: 392418 entries, 0 to 392417\n",
      "Data columns (total 5 columns):\n",
      " #   Column          Non-Null Count   Dtype  \n",
      "---  ------          --------------   -----  \n",
      " 0   vin             392418 non-null  object \n",
      " 1   start_timstm    392418 non-null  float64\n",
      " 2   end_timstm      392418 non-null  float64\n",
      " 3   start_odometer  392418 non-null  float64\n",
      " 4   end_odometer    392418 non-null  float64\n",
      "dtypes: float64(4), object(1)\n",
      "memory usage: 15.0+ MB\n"
     ]
    }
   ],
   "source": [
    "data.info()"
   ]
  },
  {
   "cell_type": "code",
   "execution_count": 77,
   "metadata": {},
   "outputs": [],
   "source": [
    "data['odometer_diff'] = data['end_odometer']-data['start_odometer']"
   ]
  },
  {
   "cell_type": "code",
   "execution_count": 78,
   "metadata": {},
   "outputs": [
    {
     "data": {
      "text/html": [
       "<div>\n",
       "<style scoped>\n",
       "    .dataframe tbody tr th:only-of-type {\n",
       "        vertical-align: middle;\n",
       "    }\n",
       "\n",
       "    .dataframe tbody tr th {\n",
       "        vertical-align: top;\n",
       "    }\n",
       "\n",
       "    .dataframe thead th {\n",
       "        text-align: right;\n",
       "    }\n",
       "</style>\n",
       "<table border=\"1\" class=\"dataframe\">\n",
       "  <thead>\n",
       "    <tr style=\"text-align: right;\">\n",
       "      <th></th>\n",
       "      <th>vin</th>\n",
       "      <th>start_timstm</th>\n",
       "      <th>end_timstm</th>\n",
       "      <th>start_odometer</th>\n",
       "      <th>end_odometer</th>\n",
       "      <th>odometer_diff</th>\n",
       "    </tr>\n",
       "  </thead>\n",
       "  <tbody>\n",
       "    <tr>\n",
       "      <th>0</th>\n",
       "      <td>1G1RA6E41FU100024</td>\n",
       "      <td>44000.61</td>\n",
       "      <td>44000.63</td>\n",
       "      <td>122284.31</td>\n",
       "      <td>122296.28</td>\n",
       "      <td>11.97</td>\n",
       "    </tr>\n",
       "    <tr>\n",
       "      <th>1</th>\n",
       "      <td>1G1RA6E41FU100024</td>\n",
       "      <td>44001.13</td>\n",
       "      <td>44001.13</td>\n",
       "      <td>122296.28</td>\n",
       "      <td>122300.89</td>\n",
       "      <td>4.61</td>\n",
       "    </tr>\n",
       "    <tr>\n",
       "      <th>2</th>\n",
       "      <td>1G1RA6E41FU100024</td>\n",
       "      <td>44001.17</td>\n",
       "      <td>44001.18</td>\n",
       "      <td>122300.89</td>\n",
       "      <td>122305.48</td>\n",
       "      <td>4.59</td>\n",
       "    </tr>\n",
       "    <tr>\n",
       "      <th>3</th>\n",
       "      <td>1G1RA6E41FU100024</td>\n",
       "      <td>44001.25</td>\n",
       "      <td>44001.25</td>\n",
       "      <td>122305.48</td>\n",
       "      <td>122305.52</td>\n",
       "      <td>0.04</td>\n",
       "    </tr>\n",
       "    <tr>\n",
       "      <th>4</th>\n",
       "      <td>1G1RC6E49FU100007</td>\n",
       "      <td>44000.63</td>\n",
       "      <td>44000.64</td>\n",
       "      <td>88171.53</td>\n",
       "      <td>88177.53</td>\n",
       "      <td>6.00</td>\n",
       "    </tr>\n",
       "  </tbody>\n",
       "</table>\n",
       "</div>"
      ],
      "text/plain": [
       "                 vin  start_timstm  end_timstm  start_odometer  end_odometer  \\\n",
       "0  1G1RA6E41FU100024      44000.61    44000.63       122284.31     122296.28   \n",
       "1  1G1RA6E41FU100024      44001.13    44001.13       122296.28     122300.89   \n",
       "2  1G1RA6E41FU100024      44001.17    44001.18       122300.89     122305.48   \n",
       "3  1G1RA6E41FU100024      44001.25    44001.25       122305.48     122305.52   \n",
       "4  1G1RC6E49FU100007      44000.63    44000.64        88171.53      88177.53   \n",
       "\n",
       "   odometer_diff  \n",
       "0          11.97  \n",
       "1           4.61  \n",
       "2           4.59  \n",
       "3           0.04  \n",
       "4           6.00  "
      ]
     },
     "execution_count": 78,
     "metadata": {},
     "output_type": "execute_result"
    }
   ],
   "source": [
    "data.head()"
   ]
  },
  {
   "cell_type": "code",
   "execution_count": 79,
   "metadata": {},
   "outputs": [
    {
     "data": {
      "text/plain": [
       "1215"
      ]
     },
     "execution_count": 79,
     "metadata": {},
     "output_type": "execute_result"
    }
   ],
   "source": [
    "sum(n < 0 for n in data['odometer_diff'])"
   ]
  },
  {
   "cell_type": "code",
   "execution_count": 80,
   "metadata": {},
   "outputs": [
    {
     "data": {
      "image/png": "[encoded data removed]",
      "text/plain": [
       "<Figure size 504x360 with 4 Axes>"
      ]
     },
     "metadata": {},
     "output_type": "display_data"
    }
   ],
   "source": [
    "data.drop(['vin', 'start_timstm', 'end_timstm'],axis = 1).hist( figsize=(7,5), bins=2);"
   ]
  },
  {
   "cell_type": "code",
   "execution_count": 81,
   "metadata": {},
   "outputs": [
    {
     "name": "stdout",
     "output_type": "stream",
     "text": [
      "91080\n"
     ]
    }
   ],
   "source": [
    "vin_count = data['vin'].nunique()\n",
    "print(vin_count)"
   ]
  },
  {
   "cell_type": "code",
   "execution_count": 82,
   "metadata": {},
   "outputs": [],
   "source": [
    "good_rows = data[data['odometer_diff'] >= 0].index\n",
    "bad_data = data.drop(good_rows,axis = 0)"
   ]
  },
  {
   "cell_type": "code",
   "execution_count": 83,
   "metadata": {},
   "outputs": [
    {
     "data": {
      "text/html": [
       "<div>\n",
       "<style scoped>\n",
       "    .dataframe tbody tr th:only-of-type {\n",
       "        vertical-align: middle;\n",
       "    }\n",
       "\n",
       "    .dataframe tbody tr th {\n",
       "        vertical-align: top;\n",
       "    }\n",
       "\n",
       "    .dataframe thead th {\n",
       "        text-align: right;\n",
       "    }\n",
       "</style>\n",
       "<table border=\"1\" class=\"dataframe\">\n",
       "  <thead>\n",
       "    <tr style=\"text-align: right;\">\n",
       "      <th></th>\n",
       "      <th>vin</th>\n",
       "      <th>start_timstm</th>\n",
       "      <th>end_timstm</th>\n",
       "      <th>start_odometer</th>\n",
       "      <th>end_odometer</th>\n",
       "      <th>odometer_diff</th>\n",
       "    </tr>\n",
       "  </thead>\n",
       "  <tbody>\n",
       "    <tr>\n",
       "      <th>1365</th>\n",
       "      <td>1G1RB6E49FU117537</td>\n",
       "      <td>43999.68</td>\n",
       "      <td>43999.70</td>\n",
       "      <td>98610.75</td>\n",
       "      <td>98610.72</td>\n",
       "      <td>-0.03</td>\n",
       "    </tr>\n",
       "    <tr>\n",
       "      <th>3999</th>\n",
       "      <td>KL8CL6S0XGC558220</td>\n",
       "      <td>44001.28</td>\n",
       "      <td>44001.28</td>\n",
       "      <td>75267.38</td>\n",
       "      <td>75267.34</td>\n",
       "      <td>-0.04</td>\n",
       "    </tr>\n",
       "    <tr>\n",
       "      <th>4736</th>\n",
       "      <td>1G1RC6S54GU128733</td>\n",
       "      <td>44000.66</td>\n",
       "      <td>44000.69</td>\n",
       "      <td>105882.39</td>\n",
       "      <td>105882.34</td>\n",
       "      <td>-0.05</td>\n",
       "    </tr>\n",
       "    <tr>\n",
       "      <th>6976</th>\n",
       "      <td>1G1RC6S53GU138878</td>\n",
       "      <td>44000.71</td>\n",
       "      <td>44000.71</td>\n",
       "      <td>108891.02</td>\n",
       "      <td>108891.00</td>\n",
       "      <td>-0.02</td>\n",
       "    </tr>\n",
       "    <tr>\n",
       "      <th>8319</th>\n",
       "      <td>KL8CK6S03GC587416</td>\n",
       "      <td>43998.17</td>\n",
       "      <td>44000.68</td>\n",
       "      <td>88292.28</td>\n",
       "      <td>88117.25</td>\n",
       "      <td>-175.03</td>\n",
       "    </tr>\n",
       "  </tbody>\n",
       "</table>\n",
       "</div>"
      ],
      "text/plain": [
       "                    vin  start_timstm  end_timstm  start_odometer  \\\n",
       "1365  1G1RB6E49FU117537      43999.68    43999.70        98610.75   \n",
       "3999  KL8CL6S0XGC558220      44001.28    44001.28        75267.38   \n",
       "4736  1G1RC6S54GU128733      44000.66    44000.69       105882.39   \n",
       "6976  1G1RC6S53GU138878      44000.71    44000.71       108891.02   \n",
       "8319  KL8CK6S03GC587416      43998.17    44000.68        88292.28   \n",
       "\n",
       "      end_odometer  odometer_diff  \n",
       "1365      98610.72          -0.03  \n",
       "3999      75267.34          -0.04  \n",
       "4736     105882.34          -0.05  \n",
       "6976     108891.00          -0.02  \n",
       "8319      88117.25        -175.03  "
      ]
     },
     "execution_count": 83,
     "metadata": {},
     "output_type": "execute_result"
    }
   ],
   "source": [
    "bad_data.head()"
   ]
  },
  {
   "cell_type": "code",
   "execution_count": 84,
   "metadata": {},
   "outputs": [
    {
     "name": "stdout",
     "output_type": "stream",
     "text": [
      "1160\n"
     ]
    }
   ],
   "source": [
    "bad_vin_count = bad_data['vin'].nunique()\n",
    "print(bad_vin_count)"
   ]
  },
  {
   "cell_type": "code",
   "execution_count": 85,
   "metadata": {},
   "outputs": [
    {
     "data": {
      "text/plain": [
       "vin\n",
       "1G1FW6S00H4130091    1\n",
       "1G1FW6S00H4137493    1\n",
       "1G1FW6S00H4143794    1\n",
       "1G1FW6S00H4148655    1\n",
       "1G1FW6S00H4148834    1\n",
       "                    ..\n",
       "LREKK5RX0HA062165    1\n",
       "LREKK5RX2HA055993    1\n",
       "LREKK5RX7HA048280    1\n",
       "LREKK5RX9HA025793    1\n",
       "LREKK5RXXJA012220    1\n",
       "Length: 1160, dtype: int64"
      ]
     },
     "execution_count": 85,
     "metadata": {},
     "output_type": "execute_result"
    }
   ],
   "source": [
    "count = bad_data.groupby('vin').size()\n",
    "count"
   ]
  },
  {
   "cell_type": "code",
   "execution_count": 86,
   "metadata": {},
   "outputs": [],
   "source": [
    "count.to_csv('out.csv')"
   ]
  },
  {
   "cell_type": "code",
   "execution_count": 87,
   "metadata": {},
   "outputs": [
    {
     "data": {
      "text/html": [
       "<div>\n",
       "<style scoped>\n",
       "    .dataframe tbody tr th:only-of-type {\n",
       "        vertical-align: middle;\n",
       "    }\n",
       "\n",
       "    .dataframe tbody tr th {\n",
       "        vertical-align: top;\n",
       "    }\n",
       "\n",
       "    .dataframe thead th {\n",
       "        text-align: right;\n",
       "    }\n",
       "</style>\n",
       "<table border=\"1\" class=\"dataframe\">\n",
       "  <thead>\n",
       "    <tr style=\"text-align: right;\">\n",
       "      <th></th>\n",
       "      <th>vin</th>\n",
       "      <th>0</th>\n",
       "    </tr>\n",
       "  </thead>\n",
       "  <tbody>\n",
       "    <tr>\n",
       "      <th>0</th>\n",
       "      <td>1G1FW6S00H4130091</td>\n",
       "      <td>1</td>\n",
       "    </tr>\n",
       "    <tr>\n",
       "      <th>1</th>\n",
       "      <td>1G1FW6S00H4137493</td>\n",
       "      <td>1</td>\n",
       "    </tr>\n",
       "    <tr>\n",
       "      <th>2</th>\n",
       "      <td>1G1FW6S00H4143794</td>\n",
       "      <td>1</td>\n",
       "    </tr>\n",
       "    <tr>\n",
       "      <th>3</th>\n",
       "      <td>1G1FW6S00H4148655</td>\n",
       "      <td>1</td>\n",
       "    </tr>\n",
       "    <tr>\n",
       "      <th>4</th>\n",
       "      <td>1G1FW6S00H4148834</td>\n",
       "      <td>1</td>\n",
       "    </tr>\n",
       "  </tbody>\n",
       "</table>\n",
       "</div>"
      ],
      "text/plain": [
       "                 vin  0\n",
       "0  1G1FW6S00H4130091  1\n",
       "1  1G1FW6S00H4137493  1\n",
       "2  1G1FW6S00H4143794  1\n",
       "3  1G1FW6S00H4148655  1\n",
       "4  1G1FW6S00H4148834  1"
      ]
     },
     "execution_count": 87,
     "metadata": {},
     "output_type": "execute_result"
    }
   ],
   "source": [
    "countf = pd.read_csv('out.csv')\n",
    "countf.head()"
   ]
  },
  {
   "cell_type": "code",
   "execution_count": 88,
   "metadata": {},
   "outputs": [
    {
     "data": {
      "text/plain": [
       "1    1112\n",
       "2      41\n",
       "3       7\n",
       "Name: 0, dtype: int64"
      ]
     },
     "execution_count": 88,
     "metadata": {},
     "output_type": "execute_result"
    }
   ],
   "source": [
    "pd.value_counts(countf['0'])"
   ]
  },
  {
   "cell_type": "code",
   "execution_count": 89,
   "metadata": {},
   "outputs": [
    {
     "data": {
      "text/plain": [
       "<matplotlib.axes._subplots.AxesSubplot at 0x163d7406288>"
      ]
     },
     "execution_count": 89,
     "metadata": {},
     "output_type": "execute_result"
    },
    {
     "data": {
      "image/png": "[encoded data removed]",
      "text/plain": [
       "<Figure size 432x288 with 1 Axes>"
      ]
     },
     "metadata": {},
     "output_type": "display_data"
    }
   ],
   "source": [
    "pd.value_counts(countf['0']).plot.bar()"
   ]
  },
  {
   "cell_type": "code",
   "execution_count": 90,
   "metadata": {},
   "outputs": [
    {
     "data": {
      "text/html": [
       "<div>\n",
       "<style scoped>\n",
       "    .dataframe tbody tr th:only-of-type {\n",
       "        vertical-align: middle;\n",
       "    }\n",
       "\n",
       "    .dataframe tbody tr th {\n",
       "        vertical-align: top;\n",
       "    }\n",
       "\n",
       "    .dataframe thead th {\n",
       "        text-align: right;\n",
       "    }\n",
       "</style>\n",
       "<table border=\"1\" class=\"dataframe\">\n",
       "  <thead>\n",
       "    <tr style=\"text-align: right;\">\n",
       "      <th></th>\n",
       "      <th>vin</th>\n",
       "      <th>start_timstm</th>\n",
       "      <th>end_timstm</th>\n",
       "      <th>start_odometer</th>\n",
       "      <th>end_odometer</th>\n",
       "      <th>odometer_diff</th>\n",
       "    </tr>\n",
       "  </thead>\n",
       "  <tbody>\n",
       "    <tr>\n",
       "      <th>0</th>\n",
       "      <td>1G1RA6E41FU100024</td>\n",
       "      <td>44000.61</td>\n",
       "      <td>44000.63</td>\n",
       "      <td>122284.31</td>\n",
       "      <td>122296.28</td>\n",
       "      <td>11.97</td>\n",
       "    </tr>\n",
       "    <tr>\n",
       "      <th>1</th>\n",
       "      <td>1G1RA6E41FU100024</td>\n",
       "      <td>44001.13</td>\n",
       "      <td>44001.13</td>\n",
       "      <td>122296.28</td>\n",
       "      <td>122300.89</td>\n",
       "      <td>4.61</td>\n",
       "    </tr>\n",
       "    <tr>\n",
       "      <th>2</th>\n",
       "      <td>1G1RA6E41FU100024</td>\n",
       "      <td>44001.17</td>\n",
       "      <td>44001.18</td>\n",
       "      <td>122300.89</td>\n",
       "      <td>122305.48</td>\n",
       "      <td>4.59</td>\n",
       "    </tr>\n",
       "    <tr>\n",
       "      <th>3</th>\n",
       "      <td>1G1RA6E41FU100024</td>\n",
       "      <td>44001.25</td>\n",
       "      <td>44001.25</td>\n",
       "      <td>122305.48</td>\n",
       "      <td>122305.52</td>\n",
       "      <td>0.04</td>\n",
       "    </tr>\n",
       "    <tr>\n",
       "      <th>4</th>\n",
       "      <td>1G1RC6E49FU100007</td>\n",
       "      <td>44000.63</td>\n",
       "      <td>44000.64</td>\n",
       "      <td>88171.53</td>\n",
       "      <td>88177.53</td>\n",
       "      <td>6.00</td>\n",
       "    </tr>\n",
       "  </tbody>\n",
       "</table>\n",
       "</div>"
      ],
      "text/plain": [
       "                 vin  start_timstm  end_timstm  start_odometer  end_odometer  \\\n",
       "0  1G1RA6E41FU100024      44000.61    44000.63       122284.31     122296.28   \n",
       "1  1G1RA6E41FU100024      44001.13    44001.13       122296.28     122300.89   \n",
       "2  1G1RA6E41FU100024      44001.17    44001.18       122300.89     122305.48   \n",
       "3  1G1RA6E41FU100024      44001.25    44001.25       122305.48     122305.52   \n",
       "4  1G1RC6E49FU100007      44000.63    44000.64        88171.53      88177.53   \n",
       "\n",
       "   odometer_diff  \n",
       "0          11.97  \n",
       "1           4.61  \n",
       "2           4.59  \n",
       "3           0.04  \n",
       "4           6.00  "
      ]
     },
     "execution_count": 90,
     "metadata": {},
     "output_type": "execute_result"
    }
   ],
   "source": [
    "data.head()"
   ]
  },
  {
   "cell_type": "code",
   "execution_count": 91,
   "metadata": {},
   "outputs": [
    {
     "data": {
      "text/html": [
       "<div>\n",
       "<style scoped>\n",
       "    .dataframe tbody tr th:only-of-type {\n",
       "        vertical-align: middle;\n",
       "    }\n",
       "\n",
       "    .dataframe tbody tr th {\n",
       "        vertical-align: top;\n",
       "    }\n",
       "\n",
       "    .dataframe thead th {\n",
       "        text-align: right;\n",
       "    }\n",
       "</style>\n",
       "<table border=\"1\" class=\"dataframe\">\n",
       "  <thead>\n",
       "    <tr style=\"text-align: right;\">\n",
       "      <th></th>\n",
       "      <th>start_timstm</th>\n",
       "      <th>end_timstm</th>\n",
       "      <th>start_odometer</th>\n",
       "      <th>end_odometer</th>\n",
       "      <th>odometer_diff</th>\n",
       "    </tr>\n",
       "    <tr>\n",
       "      <th>vin</th>\n",
       "      <th></th>\n",
       "      <th></th>\n",
       "      <th></th>\n",
       "      <th></th>\n",
       "      <th></th>\n",
       "    </tr>\n",
       "  </thead>\n",
       "  <tbody>\n",
       "    <tr>\n",
       "      <th>1G1FB6S0XN40005EX</th>\n",
       "      <td>44000.46</td>\n",
       "      <td>44001.33</td>\n",
       "      <td>2036.28</td>\n",
       "      <td>2235.75</td>\n",
       "      <td>199.47</td>\n",
       "    </tr>\n",
       "    <tr>\n",
       "      <th>1G1FW6S00H4124761</th>\n",
       "      <td>44000.63</td>\n",
       "      <td>44001.56</td>\n",
       "      <td>116785.11</td>\n",
       "      <td>116907.94</td>\n",
       "      <td>122.81</td>\n",
       "    </tr>\n",
       "    <tr>\n",
       "      <th>1G1FW6S00H4125070</th>\n",
       "      <td>44000.63</td>\n",
       "      <td>44001.40</td>\n",
       "      <td>35465.00</td>\n",
       "      <td>35496.22</td>\n",
       "      <td>27.61</td>\n",
       "    </tr>\n",
       "    <tr>\n",
       "      <th>1G1FW6S00H4125845</th>\n",
       "      <td>44000.76</td>\n",
       "      <td>44000.82</td>\n",
       "      <td>46444.06</td>\n",
       "      <td>46529.19</td>\n",
       "      <td>85.13</td>\n",
       "    </tr>\n",
       "    <tr>\n",
       "      <th>1G1FW6S00H4126039</th>\n",
       "      <td>44000.73</td>\n",
       "      <td>44001.25</td>\n",
       "      <td>40157.23</td>\n",
       "      <td>40248.00</td>\n",
       "      <td>120.51</td>\n",
       "    </tr>\n",
       "  </tbody>\n",
       "</table>\n",
       "</div>"
      ],
      "text/plain": [
       "                   start_timstm  end_timstm  start_odometer  end_odometer  \\\n",
       "vin                                                                         \n",
       "1G1FB6S0XN40005EX      44000.46    44001.33         2036.28       2235.75   \n",
       "1G1FW6S00H4124761      44000.63    44001.56       116785.11     116907.94   \n",
       "1G1FW6S00H4125070      44000.63    44001.40        35465.00      35496.22   \n",
       "1G1FW6S00H4125845      44000.76    44000.82        46444.06      46529.19   \n",
       "1G1FW6S00H4126039      44000.73    44001.25        40157.23      40248.00   \n",
       "\n",
       "                   odometer_diff  \n",
       "vin                               \n",
       "1G1FB6S0XN40005EX         199.47  \n",
       "1G1FW6S00H4124761         122.81  \n",
       "1G1FW6S00H4125070          27.61  \n",
       "1G1FW6S00H4125845          85.13  \n",
       "1G1FW6S00H4126039         120.51  "
      ]
     },
     "execution_count": 91,
     "metadata": {},
     "output_type": "execute_result"
    }
   ],
   "source": [
    "aggregate_functions = {'start_timstm' : 'first','end_timstm' : 'last','start_odometer' : 'first','end_odometer': 'last','odometer_diff': 'sum'}\n",
    "adata = data.groupby(data['vin']).aggregate(aggregate_functions)\n",
    "adata.head()"
   ]
  },
  {
   "cell_type": "code",
   "execution_count": 92,
   "metadata": {},
   "outputs": [
    {
     "data": {
      "text/html": [
       "<div>\n",
       "<style scoped>\n",
       "    .dataframe tbody tr th:only-of-type {\n",
       "        vertical-align: middle;\n",
       "    }\n",
       "\n",
       "    .dataframe tbody tr th {\n",
       "        vertical-align: top;\n",
       "    }\n",
       "\n",
       "    .dataframe thead th {\n",
       "        text-align: right;\n",
       "    }\n",
       "</style>\n",
       "<table border=\"1\" class=\"dataframe\">\n",
       "  <thead>\n",
       "    <tr style=\"text-align: right;\">\n",
       "      <th></th>\n",
       "      <th>start_timstm</th>\n",
       "      <th>end_timstm</th>\n",
       "      <th>start_odometer</th>\n",
       "      <th>end_odometer</th>\n",
       "      <th>odometer_diff</th>\n",
       "      <th>agg_odometer_diff</th>\n",
       "    </tr>\n",
       "    <tr>\n",
       "      <th>vin</th>\n",
       "      <th></th>\n",
       "      <th></th>\n",
       "      <th></th>\n",
       "      <th></th>\n",
       "      <th></th>\n",
       "      <th></th>\n",
       "    </tr>\n",
       "  </thead>\n",
       "  <tbody>\n",
       "    <tr>\n",
       "      <th>1G1FB6S0XN40005EX</th>\n",
       "      <td>44000.46</td>\n",
       "      <td>44001.33</td>\n",
       "      <td>2036.28</td>\n",
       "      <td>2235.75</td>\n",
       "      <td>199.47</td>\n",
       "      <td>199.47</td>\n",
       "    </tr>\n",
       "    <tr>\n",
       "      <th>1G1FW6S00H4124761</th>\n",
       "      <td>44000.63</td>\n",
       "      <td>44001.56</td>\n",
       "      <td>116785.11</td>\n",
       "      <td>116907.94</td>\n",
       "      <td>122.81</td>\n",
       "      <td>122.83</td>\n",
       "    </tr>\n",
       "    <tr>\n",
       "      <th>1G1FW6S00H4125070</th>\n",
       "      <td>44000.63</td>\n",
       "      <td>44001.40</td>\n",
       "      <td>35465.00</td>\n",
       "      <td>35496.22</td>\n",
       "      <td>27.61</td>\n",
       "      <td>31.22</td>\n",
       "    </tr>\n",
       "    <tr>\n",
       "      <th>1G1FW6S00H4125845</th>\n",
       "      <td>44000.76</td>\n",
       "      <td>44000.82</td>\n",
       "      <td>46444.06</td>\n",
       "      <td>46529.19</td>\n",
       "      <td>85.13</td>\n",
       "      <td>85.13</td>\n",
       "    </tr>\n",
       "    <tr>\n",
       "      <th>1G1FW6S00H4126039</th>\n",
       "      <td>44000.73</td>\n",
       "      <td>44001.25</td>\n",
       "      <td>40157.23</td>\n",
       "      <td>40248.00</td>\n",
       "      <td>120.51</td>\n",
       "      <td>90.77</td>\n",
       "    </tr>\n",
       "  </tbody>\n",
       "</table>\n",
       "</div>"
      ],
      "text/plain": [
       "                   start_timstm  end_timstm  start_odometer  end_odometer  \\\n",
       "vin                                                                         \n",
       "1G1FB6S0XN40005EX      44000.46    44001.33         2036.28       2235.75   \n",
       "1G1FW6S00H4124761      44000.63    44001.56       116785.11     116907.94   \n",
       "1G1FW6S00H4125070      44000.63    44001.40        35465.00      35496.22   \n",
       "1G1FW6S00H4125845      44000.76    44000.82        46444.06      46529.19   \n",
       "1G1FW6S00H4126039      44000.73    44001.25        40157.23      40248.00   \n",
       "\n",
       "                   odometer_diff  agg_odometer_diff  \n",
       "vin                                                  \n",
       "1G1FB6S0XN40005EX         199.47             199.47  \n",
       "1G1FW6S00H4124761         122.81             122.83  \n",
       "1G1FW6S00H4125070          27.61              31.22  \n",
       "1G1FW6S00H4125845          85.13              85.13  \n",
       "1G1FW6S00H4126039         120.51              90.77  "
      ]
     },
     "execution_count": 92,
     "metadata": {},
     "output_type": "execute_result"
    }
   ],
   "source": [
    "adata['agg_odometer_diff'] = adata['end_odometer']-adata['start_odometer']\n",
    "adata.head()"
   ]
  },
  {
   "cell_type": "code",
   "execution_count": 93,
   "metadata": {},
   "outputs": [
    {
     "data": {
      "text/html": [
       "<div>\n",
       "<style scoped>\n",
       "    .dataframe tbody tr th:only-of-type {\n",
       "        vertical-align: middle;\n",
       "    }\n",
       "\n",
       "    .dataframe tbody tr th {\n",
       "        vertical-align: top;\n",
       "    }\n",
       "\n",
       "    .dataframe thead th {\n",
       "        text-align: right;\n",
       "    }\n",
       "</style>\n",
       "<table border=\"1\" class=\"dataframe\">\n",
       "  <thead>\n",
       "    <tr style=\"text-align: right;\">\n",
       "      <th></th>\n",
       "      <th>start_timstm</th>\n",
       "      <th>end_timstm</th>\n",
       "      <th>start_odometer</th>\n",
       "      <th>end_odometer</th>\n",
       "      <th>odometer_diff</th>\n",
       "      <th>agg_odometer_diff</th>\n",
       "      <th>agg_percent</th>\n",
       "    </tr>\n",
       "    <tr>\n",
       "      <th>vin</th>\n",
       "      <th></th>\n",
       "      <th></th>\n",
       "      <th></th>\n",
       "      <th></th>\n",
       "      <th></th>\n",
       "      <th></th>\n",
       "      <th></th>\n",
       "    </tr>\n",
       "  </thead>\n",
       "  <tbody>\n",
       "    <tr>\n",
       "      <th>1G1FB6S0XN40005EX</th>\n",
       "      <td>44000.46</td>\n",
       "      <td>44001.33</td>\n",
       "      <td>2036.28</td>\n",
       "      <td>2235.75</td>\n",
       "      <td>199.47</td>\n",
       "      <td>199.47</td>\n",
       "      <td>100.000000</td>\n",
       "    </tr>\n",
       "    <tr>\n",
       "      <th>1G1FW6S00H4124761</th>\n",
       "      <td>44000.63</td>\n",
       "      <td>44001.56</td>\n",
       "      <td>116785.11</td>\n",
       "      <td>116907.94</td>\n",
       "      <td>122.81</td>\n",
       "      <td>122.83</td>\n",
       "      <td>99.983717</td>\n",
       "    </tr>\n",
       "    <tr>\n",
       "      <th>1G1FW6S00H4125070</th>\n",
       "      <td>44000.63</td>\n",
       "      <td>44001.40</td>\n",
       "      <td>35465.00</td>\n",
       "      <td>35496.22</td>\n",
       "      <td>27.61</td>\n",
       "      <td>31.22</td>\n",
       "      <td>88.436899</td>\n",
       "    </tr>\n",
       "    <tr>\n",
       "      <th>1G1FW6S00H4125845</th>\n",
       "      <td>44000.76</td>\n",
       "      <td>44000.82</td>\n",
       "      <td>46444.06</td>\n",
       "      <td>46529.19</td>\n",
       "      <td>85.13</td>\n",
       "      <td>85.13</td>\n",
       "      <td>100.000000</td>\n",
       "    </tr>\n",
       "    <tr>\n",
       "      <th>1G1FW6S00H4126039</th>\n",
       "      <td>44000.73</td>\n",
       "      <td>44001.25</td>\n",
       "      <td>40157.23</td>\n",
       "      <td>40248.00</td>\n",
       "      <td>120.51</td>\n",
       "      <td>90.77</td>\n",
       "      <td>132.764129</td>\n",
       "    </tr>\n",
       "  </tbody>\n",
       "</table>\n",
       "</div>"
      ],
      "text/plain": [
       "                   start_timstm  end_timstm  start_odometer  end_odometer  \\\n",
       "vin                                                                         \n",
       "1G1FB6S0XN40005EX      44000.46    44001.33         2036.28       2235.75   \n",
       "1G1FW6S00H4124761      44000.63    44001.56       116785.11     116907.94   \n",
       "1G1FW6S00H4125070      44000.63    44001.40        35465.00      35496.22   \n",
       "1G1FW6S00H4125845      44000.76    44000.82        46444.06      46529.19   \n",
       "1G1FW6S00H4126039      44000.73    44001.25        40157.23      40248.00   \n",
       "\n",
       "                   odometer_diff  agg_odometer_diff  agg_percent  \n",
       "vin                                                               \n",
       "1G1FB6S0XN40005EX         199.47             199.47   100.000000  \n",
       "1G1FW6S00H4124761         122.81             122.83    99.983717  \n",
       "1G1FW6S00H4125070          27.61              31.22    88.436899  \n",
       "1G1FW6S00H4125845          85.13              85.13   100.000000  \n",
       "1G1FW6S00H4126039         120.51              90.77   132.764129  "
      ]
     },
     "execution_count": 93,
     "metadata": {},
     "output_type": "execute_result"
    }
   ],
   "source": [
    "adata['agg_percent'] = adata['odometer_diff']/adata['agg_odometer_diff']*100\n",
    "adata.head()"
   ]
  },
  {
   "cell_type": "code",
   "execution_count": 94,
   "metadata": {},
   "outputs": [
    {
     "name": "stdout",
     "output_type": "stream",
     "text": [
      "<class 'pandas.core.frame.DataFrame'>\n",
      "Index: 91080 entries, 1G1FB6S0XN40005EX to LREKK5RXXJA055536\n",
      "Data columns (total 7 columns):\n",
      " #   Column             Non-Null Count  Dtype  \n",
      "---  ------             --------------  -----  \n",
      " 0   start_timstm       91080 non-null  float64\n",
      " 1   end_timstm         91080 non-null  float64\n",
      " 2   start_odometer     91080 non-null  float64\n",
      " 3   end_odometer       91080 non-null  float64\n",
      " 4   odometer_diff      91080 non-null  float64\n",
      " 5   agg_odometer_diff  91080 non-null  float64\n",
      " 6   agg_percent        90015 non-null  float64\n",
      "dtypes: float64(7)\n",
      "memory usage: 5.6+ MB\n"
     ]
    }
   ],
   "source": [
    "adata.info()"
   ]
  },
  {
   "cell_type": "code",
   "execution_count": 95,
   "metadata": {},
   "outputs": [
    {
     "data": {
      "text/plain": [
       "1085"
      ]
     },
     "execution_count": 95,
     "metadata": {},
     "output_type": "execute_result"
    }
   ],
   "source": [
    "sum(n == 0 for n in adata['agg_odometer_diff'])"
   ]
  },
  {
   "cell_type": "code",
   "execution_count": 96,
   "metadata": {},
   "outputs": [
    {
     "data": {
      "text/html": [
       "<div>\n",
       "<style scoped>\n",
       "    .dataframe tbody tr th:only-of-type {\n",
       "        vertical-align: middle;\n",
       "    }\n",
       "\n",
       "    .dataframe tbody tr th {\n",
       "        vertical-align: top;\n",
       "    }\n",
       "\n",
       "    .dataframe thead th {\n",
       "        text-align: right;\n",
       "    }\n",
       "</style>\n",
       "<table border=\"1\" class=\"dataframe\">\n",
       "  <thead>\n",
       "    <tr style=\"text-align: right;\">\n",
       "      <th></th>\n",
       "      <th>start_timstm</th>\n",
       "      <th>end_timstm</th>\n",
       "      <th>start_odometer</th>\n",
       "      <th>end_odometer</th>\n",
       "      <th>odometer_diff</th>\n",
       "      <th>agg_odometer_diff</th>\n",
       "      <th>agg_percent</th>\n",
       "    </tr>\n",
       "    <tr>\n",
       "      <th>vin</th>\n",
       "      <th></th>\n",
       "      <th></th>\n",
       "      <th></th>\n",
       "      <th></th>\n",
       "      <th></th>\n",
       "      <th></th>\n",
       "      <th></th>\n",
       "    </tr>\n",
       "  </thead>\n",
       "  <tbody>\n",
       "    <tr>\n",
       "      <th>1G1FW6S00H4137395</th>\n",
       "      <td>44000.78</td>\n",
       "      <td>44000.78</td>\n",
       "      <td>88192.89</td>\n",
       "      <td>88192.89</td>\n",
       "      <td>0.0</td>\n",
       "      <td>0.0</td>\n",
       "      <td>NaN</td>\n",
       "    </tr>\n",
       "    <tr>\n",
       "      <th>1G1FW6S00H4156772</th>\n",
       "      <td>44000.46</td>\n",
       "      <td>44001.34</td>\n",
       "      <td>107780.88</td>\n",
       "      <td>107780.88</td>\n",
       "      <td>0.0</td>\n",
       "      <td>0.0</td>\n",
       "      <td>NaN</td>\n",
       "    </tr>\n",
       "    <tr>\n",
       "      <th>1G1FW6S00H4157260</th>\n",
       "      <td>44001.41</td>\n",
       "      <td>44001.43</td>\n",
       "      <td>56144.55</td>\n",
       "      <td>56144.55</td>\n",
       "      <td>0.0</td>\n",
       "      <td>0.0</td>\n",
       "      <td>NaN</td>\n",
       "    </tr>\n",
       "    <tr>\n",
       "      <th>1G1FW6S00H4158361</th>\n",
       "      <td>44000.73</td>\n",
       "      <td>44000.74</td>\n",
       "      <td>42688.47</td>\n",
       "      <td>42688.47</td>\n",
       "      <td>0.0</td>\n",
       "      <td>0.0</td>\n",
       "      <td>NaN</td>\n",
       "    </tr>\n",
       "    <tr>\n",
       "      <th>1G1FW6S00H4159008</th>\n",
       "      <td>44000.62</td>\n",
       "      <td>44000.65</td>\n",
       "      <td>50024.05</td>\n",
       "      <td>50024.05</td>\n",
       "      <td>0.0</td>\n",
       "      <td>0.0</td>\n",
       "      <td>NaN</td>\n",
       "    </tr>\n",
       "  </tbody>\n",
       "</table>\n",
       "</div>"
      ],
      "text/plain": [
       "                   start_timstm  end_timstm  start_odometer  end_odometer  \\\n",
       "vin                                                                         \n",
       "1G1FW6S00H4137395      44000.78    44000.78        88192.89      88192.89   \n",
       "1G1FW6S00H4156772      44000.46    44001.34       107780.88     107780.88   \n",
       "1G1FW6S00H4157260      44001.41    44001.43        56144.55      56144.55   \n",
       "1G1FW6S00H4158361      44000.73    44000.74        42688.47      42688.47   \n",
       "1G1FW6S00H4159008      44000.62    44000.65        50024.05      50024.05   \n",
       "\n",
       "                   odometer_diff  agg_odometer_diff  agg_percent  \n",
       "vin                                                               \n",
       "1G1FW6S00H4137395            0.0                0.0          NaN  \n",
       "1G1FW6S00H4156772            0.0                0.0          NaN  \n",
       "1G1FW6S00H4157260            0.0                0.0          NaN  \n",
       "1G1FW6S00H4158361            0.0                0.0          NaN  \n",
       "1G1FW6S00H4159008            0.0                0.0          NaN  "
      ]
     },
     "execution_count": 96,
     "metadata": {},
     "output_type": "execute_result"
    }
   ],
   "source": [
    "good_sum = adata[adata['agg_odometer_diff'] != 0].index\n",
    "bad_sum_data = adata.drop(good_sum,axis = 0)\n",
    "bad_sum_data.head()"
   ]
  },
  {
   "cell_type": "code",
   "execution_count": 97,
   "metadata": {},
   "outputs": [],
   "source": [
    "#dropping 0 values\n",
    "bad_sum = adata[adata['agg_odometer_diff'] == 0].index\n",
    "adata = adata.drop(bad_sum,axis = 0)"
   ]
  },
  {
   "cell_type": "code",
   "execution_count": 98,
   "metadata": {},
   "outputs": [
    {
     "data": {
      "text/html": [
       "<div>\n",
       "<style scoped>\n",
       "    .dataframe tbody tr th:only-of-type {\n",
       "        vertical-align: middle;\n",
       "    }\n",
       "\n",
       "    .dataframe tbody tr th {\n",
       "        vertical-align: top;\n",
       "    }\n",
       "\n",
       "    .dataframe thead th {\n",
       "        text-align: right;\n",
       "    }\n",
       "</style>\n",
       "<table border=\"1\" class=\"dataframe\">\n",
       "  <thead>\n",
       "    <tr style=\"text-align: right;\">\n",
       "      <th></th>\n",
       "      <th>start_timstm</th>\n",
       "      <th>end_timstm</th>\n",
       "      <th>start_odometer</th>\n",
       "      <th>end_odometer</th>\n",
       "      <th>odometer_diff</th>\n",
       "      <th>agg_odometer_diff</th>\n",
       "      <th>agg_percent</th>\n",
       "    </tr>\n",
       "    <tr>\n",
       "      <th>vin</th>\n",
       "      <th></th>\n",
       "      <th></th>\n",
       "      <th></th>\n",
       "      <th></th>\n",
       "      <th></th>\n",
       "      <th></th>\n",
       "      <th></th>\n",
       "    </tr>\n",
       "  </thead>\n",
       "  <tbody>\n",
       "    <tr>\n",
       "      <th>1G1FB6S0XN40005EX</th>\n",
       "      <td>44000.46</td>\n",
       "      <td>44001.33</td>\n",
       "      <td>2036.28</td>\n",
       "      <td>2235.75</td>\n",
       "      <td>199.47</td>\n",
       "      <td>199.47</td>\n",
       "      <td>100.000000</td>\n",
       "    </tr>\n",
       "    <tr>\n",
       "      <th>1G1FW6S00H4124761</th>\n",
       "      <td>44000.63</td>\n",
       "      <td>44001.56</td>\n",
       "      <td>116785.11</td>\n",
       "      <td>116907.94</td>\n",
       "      <td>122.81</td>\n",
       "      <td>122.83</td>\n",
       "      <td>99.983717</td>\n",
       "    </tr>\n",
       "    <tr>\n",
       "      <th>1G1FW6S00H4125070</th>\n",
       "      <td>44000.63</td>\n",
       "      <td>44001.40</td>\n",
       "      <td>35465.00</td>\n",
       "      <td>35496.22</td>\n",
       "      <td>27.61</td>\n",
       "      <td>31.22</td>\n",
       "      <td>88.436899</td>\n",
       "    </tr>\n",
       "    <tr>\n",
       "      <th>1G1FW6S00H4125845</th>\n",
       "      <td>44000.76</td>\n",
       "      <td>44000.82</td>\n",
       "      <td>46444.06</td>\n",
       "      <td>46529.19</td>\n",
       "      <td>85.13</td>\n",
       "      <td>85.13</td>\n",
       "      <td>100.000000</td>\n",
       "    </tr>\n",
       "    <tr>\n",
       "      <th>1G1FW6S00H4126039</th>\n",
       "      <td>44000.73</td>\n",
       "      <td>44001.25</td>\n",
       "      <td>40157.23</td>\n",
       "      <td>40248.00</td>\n",
       "      <td>120.51</td>\n",
       "      <td>90.77</td>\n",
       "      <td>132.764129</td>\n",
       "    </tr>\n",
       "  </tbody>\n",
       "</table>\n",
       "</div>"
      ],
      "text/plain": [
       "                   start_timstm  end_timstm  start_odometer  end_odometer  \\\n",
       "vin                                                                         \n",
       "1G1FB6S0XN40005EX      44000.46    44001.33         2036.28       2235.75   \n",
       "1G1FW6S00H4124761      44000.63    44001.56       116785.11     116907.94   \n",
       "1G1FW6S00H4125070      44000.63    44001.40        35465.00      35496.22   \n",
       "1G1FW6S00H4125845      44000.76    44000.82        46444.06      46529.19   \n",
       "1G1FW6S00H4126039      44000.73    44001.25        40157.23      40248.00   \n",
       "\n",
       "                   odometer_diff  agg_odometer_diff  agg_percent  \n",
       "vin                                                               \n",
       "1G1FB6S0XN40005EX         199.47             199.47   100.000000  \n",
       "1G1FW6S00H4124761         122.81             122.83    99.983717  \n",
       "1G1FW6S00H4125070          27.61              31.22    88.436899  \n",
       "1G1FW6S00H4125845          85.13              85.13   100.000000  \n",
       "1G1FW6S00H4126039         120.51              90.77   132.764129  "
      ]
     },
     "execution_count": 98,
     "metadata": {},
     "output_type": "execute_result"
    }
   ],
   "source": [
    "adata.head()"
   ]
  },
  {
   "cell_type": "code",
   "execution_count": 99,
   "metadata": {},
   "outputs": [
    {
     "name": "stdout",
     "output_type": "stream",
     "text": [
      "<class 'pandas.core.frame.DataFrame'>\n",
      "Index: 89995 entries, 1G1FB6S0XN40005EX to LREKK5RXXJA055536\n",
      "Data columns (total 7 columns):\n",
      " #   Column             Non-Null Count  Dtype  \n",
      "---  ------             --------------  -----  \n",
      " 0   start_timstm       89995 non-null  float64\n",
      " 1   end_timstm         89995 non-null  float64\n",
      " 2   start_odometer     89995 non-null  float64\n",
      " 3   end_odometer       89995 non-null  float64\n",
      " 4   odometer_diff      89995 non-null  float64\n",
      " 5   agg_odometer_diff  89995 non-null  float64\n",
      " 6   agg_percent        89995 non-null  float64\n",
      "dtypes: float64(7)\n",
      "memory usage: 5.5+ MB\n"
     ]
    }
   ],
   "source": [
    "adata.info()"
   ]
  },
  {
   "cell_type": "code",
   "execution_count": 113,
   "metadata": {},
   "outputs": [],
   "source": [
    "adata['bins'] = pd.cut(adata['agg_percent'],bins = [float(\"-inf\"),90,95,99,100,float(\"inf\")], labels = [\"Below 90%\", \"90%-95%\",\"95%-99%\",\"99%-100%\",\"Over 100%\"])\n",
    "pie_data = adata.groupby( 'bins').size()"
   ]
  },
  {
   "cell_type": "code",
   "execution_count": 114,
   "metadata": {},
   "outputs": [
    {
     "data": {
      "text/plain": [
       "bins\n",
       "Below 90%     6256\n",
       "90%-95%       1275\n",
       "95%-99%       1935\n",
       "99%-100%     78034\n",
       "Over 100%     2495\n",
       "dtype: int64"
      ]
     },
     "execution_count": 114,
     "metadata": {},
     "output_type": "execute_result"
    }
   ],
   "source": [
    "pie_data"
   ]
  },
  {
   "cell_type": "code",
   "execution_count": 115,
   "metadata": {},
   "outputs": [
    {
     "data": {
      "text/plain": [
       "<matplotlib.axes._subplots.AxesSubplot at 0x163dbf98c48>"
      ]
     },
     "execution_count": 115,
     "metadata": {},
     "output_type": "execute_result"
    },
    {
     "data": {
      "image/png": "[encoded data removed]",
      "text/plain": [
       "<Figure size 504x504 with 1 Axes>"
      ]
     },
     "metadata": {},
     "output_type": "display_data"
    }
   ],
   "source": [
    "pie_data.plot.pie(figsize=(7,7))"
   ]
  },
  {
   "cell_type": "code",
   "execution_count": null,
   "metadata": {},
   "outputs": [],
   "source": []
  }
 ],
 "metadata": {
  "kernelspec": {
   "display_name": "Python 3",
   "language": "python",
   "name": "python3"
  },
  "language_info": {
   "codemirror_mode": {
    "name": "ipython",
    "version": 3
   },
   "file_extension": ".py",
   "mimetype": "text/x-python",
   "name": "python",
   "nbconvert_exporter": "python",
   "pygments_lexer": "ipython3",
   "version": "3.7.6"
  }
 },
 "nbformat": 4,
 "nbformat_minor": 4
}
