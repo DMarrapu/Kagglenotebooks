{
 "cells": [
  {
   "cell_type": "code",
   "execution_count": 2,
   "metadata": {},
   "outputs": [],
   "source": [
    "import pandas as pd\n",
    "import numpy as np\n",
    "import matplotlib.pyplot as plt\n",
    "import seaborn as sns"
   ]
  },
  {
   "cell_type": "code",
   "execution_count": 3,
   "metadata": {},
   "outputs": [],
   "source": [
    "%matplotlib inline\n",
    "sns.set_style('darkgrid')"
   ]
  },
  {
   "cell_type": "code",
   "execution_count": 4,
   "metadata": {},
   "outputs": [
    {
     "data": {
      "text/html": [
       "<div>\n",
       "<style scoped>\n",
       "    .dataframe tbody tr th:only-of-type {\n",
       "        vertical-align: middle;\n",
       "    }\n",
       "\n",
       "    .dataframe tbody tr th {\n",
       "        vertical-align: top;\n",
       "    }\n",
       "\n",
       "    .dataframe thead th {\n",
       "        text-align: right;\n",
       "    }\n",
       "</style>\n",
       "<table border=\"1\" class=\"dataframe\">\n",
       "  <thead>\n",
       "    <tr style=\"text-align: right;\">\n",
       "      <th></th>\n",
       "      <th>vin_nbr</th>\n",
       "      <th>element_cd</th>\n",
       "      <th>element_timstm</th>\n",
       "      <th>element_val</th>\n",
       "    </tr>\n",
       "  </thead>\n",
       "  <tbody>\n",
       "    <tr>\n",
       "      <th>0</th>\n",
       "      <td>1G1FZ6S05K4100048</td>\n",
       "      <td>ODO_READ</td>\n",
       "      <td>2020-06-01 03:54:15</td>\n",
       "      <td>11796.531250</td>\n",
       "    </tr>\n",
       "    <tr>\n",
       "      <th>1</th>\n",
       "      <td>1G1FZ6S05K4100048</td>\n",
       "      <td>ODO_READ</td>\n",
       "      <td>2020-06-01 04:53:16</td>\n",
       "      <td>11800.656250</td>\n",
       "    </tr>\n",
       "    <tr>\n",
       "      <th>2</th>\n",
       "      <td>1G1FZ6S05K4100048</td>\n",
       "      <td>ODO_READ</td>\n",
       "      <td>2020-06-01 04:54:47</td>\n",
       "      <td>11800.656250</td>\n",
       "    </tr>\n",
       "    <tr>\n",
       "      <th>3</th>\n",
       "      <td>1G1FZ6S05K4100048</td>\n",
       "      <td>ODO_READ</td>\n",
       "      <td>2020-06-01 06:19:39</td>\n",
       "      <td>11819.359375</td>\n",
       "    </tr>\n",
       "    <tr>\n",
       "      <th>4</th>\n",
       "      <td>1G1FZ6S05K4100048</td>\n",
       "      <td>ODO_READ</td>\n",
       "      <td>2020-06-01 10:03:13</td>\n",
       "      <td>11819.359375</td>\n",
       "    </tr>\n",
       "  </tbody>\n",
       "</table>\n",
       "</div>"
      ],
      "text/plain": [
       "             vin_nbr element_cd       element_timstm   element_val\n",
       "0  1G1FZ6S05K4100048   ODO_READ  2020-06-01 03:54:15  11796.531250\n",
       "1  1G1FZ6S05K4100048   ODO_READ  2020-06-01 04:53:16  11800.656250\n",
       "2  1G1FZ6S05K4100048   ODO_READ  2020-06-01 04:54:47  11800.656250\n",
       "3  1G1FZ6S05K4100048   ODO_READ  2020-06-01 06:19:39  11819.359375\n",
       "4  1G1FZ6S05K4100048   ODO_READ  2020-06-01 10:03:13  11819.359375"
      ]
     },
     "execution_count": 4,
     "metadata": {},
     "output_type": "execute_result"
    }
   ],
   "source": [
    "data = pd.read_csv('ev_range.csv')\n",
    "data.head()"
   ]
  },
  {
   "cell_type": "code",
   "execution_count": 5,
   "metadata": {},
   "outputs": [
    {
     "name": "stdout",
     "output_type": "stream",
     "text": [
      "<class 'pandas.core.frame.DataFrame'>\n",
      "RangeIndex: 176 entries, 0 to 175\n",
      "Data columns (total 4 columns):\n",
      " #   Column          Non-Null Count  Dtype  \n",
      "---  ------          --------------  -----  \n",
      " 0   vin_nbr         176 non-null    object \n",
      " 1   element_cd      176 non-null    object \n",
      " 2   element_timstm  176 non-null    object \n",
      " 3   element_val     176 non-null    float64\n",
      "dtypes: float64(1), object(3)\n",
      "memory usage: 5.6+ KB\n"
     ]
    }
   ],
   "source": [
    "data.info()"
   ]
  },
  {
   "cell_type": "code",
   "execution_count": 6,
   "metadata": {},
   "outputs": [
    {
     "data": {
      "text/plain": [
       "ODO_READ    155\n",
       "EV_RANGE     21\n",
       "Name: element_cd, dtype: int64"
      ]
     },
     "execution_count": 6,
     "metadata": {},
     "output_type": "execute_result"
    }
   ],
   "source": [
    "pd.value_counts(data['element_cd'])"
   ]
  },
  {
   "cell_type": "code",
   "execution_count": 7,
   "metadata": {},
   "outputs": [
    {
     "data": {
      "text/plain": [
       "<matplotlib.axes._subplots.AxesSubplot at 0x199603c64c8>"
      ]
     },
     "execution_count": 7,
     "metadata": {},
     "output_type": "execute_result"
    },
    {
     "data": {
      "image/png": "[encoded data removed]",
      "text/plain": [
       "<Figure size 432x288 with 1 Axes>"
      ]
     },
     "metadata": {},
     "output_type": "display_data"
    }
   ],
   "source": [
    "pd.value_counts(data['element_cd']).plot.bar()"
   ]
  },
  {
   "cell_type": "code",
   "execution_count": 8,
   "metadata": {},
   "outputs": [],
   "source": [
    "odo_read = data[data['element_cd'] != \"ODO_READ\"].index\n",
    "odo_read = data.drop(odo_read,axis = 0)"
   ]
  },
  {
   "cell_type": "code",
   "execution_count": 9,
   "metadata": {},
   "outputs": [
    {
     "data": {
      "text/html": [
       "<div>\n",
       "<style scoped>\n",
       "    .dataframe tbody tr th:only-of-type {\n",
       "        vertical-align: middle;\n",
       "    }\n",
       "\n",
       "    .dataframe tbody tr th {\n",
       "        vertical-align: top;\n",
       "    }\n",
       "\n",
       "    .dataframe thead th {\n",
       "        text-align: right;\n",
       "    }\n",
       "</style>\n",
       "<table border=\"1\" class=\"dataframe\">\n",
       "  <thead>\n",
       "    <tr style=\"text-align: right;\">\n",
       "      <th></th>\n",
       "      <th>vin_nbr</th>\n",
       "      <th>element_cd</th>\n",
       "      <th>element_timstm</th>\n",
       "      <th>element_val</th>\n",
       "    </tr>\n",
       "  </thead>\n",
       "  <tbody>\n",
       "    <tr>\n",
       "      <th>0</th>\n",
       "      <td>1G1FZ6S05K4100048</td>\n",
       "      <td>ODO_READ</td>\n",
       "      <td>2020-06-01 03:54:15</td>\n",
       "      <td>11796.531250</td>\n",
       "    </tr>\n",
       "    <tr>\n",
       "      <th>1</th>\n",
       "      <td>1G1FZ6S05K4100048</td>\n",
       "      <td>ODO_READ</td>\n",
       "      <td>2020-06-01 04:53:16</td>\n",
       "      <td>11800.656250</td>\n",
       "    </tr>\n",
       "    <tr>\n",
       "      <th>2</th>\n",
       "      <td>1G1FZ6S05K4100048</td>\n",
       "      <td>ODO_READ</td>\n",
       "      <td>2020-06-01 04:54:47</td>\n",
       "      <td>11800.656250</td>\n",
       "    </tr>\n",
       "    <tr>\n",
       "      <th>3</th>\n",
       "      <td>1G1FZ6S05K4100048</td>\n",
       "      <td>ODO_READ</td>\n",
       "      <td>2020-06-01 06:19:39</td>\n",
       "      <td>11819.359375</td>\n",
       "    </tr>\n",
       "    <tr>\n",
       "      <th>4</th>\n",
       "      <td>1G1FZ6S05K4100048</td>\n",
       "      <td>ODO_READ</td>\n",
       "      <td>2020-06-01 10:03:13</td>\n",
       "      <td>11819.359375</td>\n",
       "    </tr>\n",
       "  </tbody>\n",
       "</table>\n",
       "</div>"
      ],
      "text/plain": [
       "             vin_nbr element_cd       element_timstm   element_val\n",
       "0  1G1FZ6S05K4100048   ODO_READ  2020-06-01 03:54:15  11796.531250\n",
       "1  1G1FZ6S05K4100048   ODO_READ  2020-06-01 04:53:16  11800.656250\n",
       "2  1G1FZ6S05K4100048   ODO_READ  2020-06-01 04:54:47  11800.656250\n",
       "3  1G1FZ6S05K4100048   ODO_READ  2020-06-01 06:19:39  11819.359375\n",
       "4  1G1FZ6S05K4100048   ODO_READ  2020-06-01 10:03:13  11819.359375"
      ]
     },
     "execution_count": 9,
     "metadata": {},
     "output_type": "execute_result"
    }
   ],
   "source": [
    "odo_read.head()"
   ]
  },
  {
   "cell_type": "code",
   "execution_count": 10,
   "metadata": {},
   "outputs": [
    {
     "data": {
      "text/plain": [
       "738.453125"
      ]
     },
     "execution_count": 10,
     "metadata": {},
     "output_type": "execute_result"
    }
   ],
   "source": [
    "distance = odo_read['element_val'].max() - odo_read['element_val'].min()\n",
    "distance"
   ]
  },
  {
   "cell_type": "code",
   "execution_count": 11,
   "metadata": {},
   "outputs": [],
   "source": [
    "ev_range = data[data['element_cd'] != \"EV_RANGE\"].index\n",
    "ev_range = data.drop(ev_range,axis = 0)"
   ]
  },
  {
   "cell_type": "code",
   "execution_count": 12,
   "metadata": {},
   "outputs": [
    {
     "data": {
      "text/html": [
       "<div>\n",
       "<style scoped>\n",
       "    .dataframe tbody tr th:only-of-type {\n",
       "        vertical-align: middle;\n",
       "    }\n",
       "\n",
       "    .dataframe tbody tr th {\n",
       "        vertical-align: top;\n",
       "    }\n",
       "\n",
       "    .dataframe thead th {\n",
       "        text-align: right;\n",
       "    }\n",
       "</style>\n",
       "<table border=\"1\" class=\"dataframe\">\n",
       "  <thead>\n",
       "    <tr style=\"text-align: right;\">\n",
       "      <th></th>\n",
       "      <th>vin_nbr</th>\n",
       "      <th>element_cd</th>\n",
       "      <th>element_timstm</th>\n",
       "      <th>element_val</th>\n",
       "    </tr>\n",
       "  </thead>\n",
       "  <tbody>\n",
       "    <tr>\n",
       "      <th>8</th>\n",
       "      <td>1G1FZ6S05K4100048</td>\n",
       "      <td>EV_RANGE</td>\n",
       "      <td>2020-06-01 11:55:51</td>\n",
       "      <td>199.0</td>\n",
       "    </tr>\n",
       "    <tr>\n",
       "      <th>14</th>\n",
       "      <td>1G1FZ6S05K4100048</td>\n",
       "      <td>EV_RANGE</td>\n",
       "      <td>2020-06-01 13:09:42</td>\n",
       "      <td>196.0</td>\n",
       "    </tr>\n",
       "    <tr>\n",
       "      <th>15</th>\n",
       "      <td>1G1FZ6S05K4100048</td>\n",
       "      <td>EV_RANGE</td>\n",
       "      <td>2020-06-01 16:58:24</td>\n",
       "      <td>308.0</td>\n",
       "    </tr>\n",
       "    <tr>\n",
       "      <th>22</th>\n",
       "      <td>1G1FZ6S05K4100048</td>\n",
       "      <td>EV_RANGE</td>\n",
       "      <td>2020-06-02 12:38:40</td>\n",
       "      <td>287.0</td>\n",
       "    </tr>\n",
       "    <tr>\n",
       "      <th>39</th>\n",
       "      <td>1G1FZ6S05K4100048</td>\n",
       "      <td>EV_RANGE</td>\n",
       "      <td>2020-06-03 06:49:06</td>\n",
       "      <td>258.0</td>\n",
       "    </tr>\n",
       "  </tbody>\n",
       "</table>\n",
       "</div>"
      ],
      "text/plain": [
       "              vin_nbr element_cd       element_timstm  element_val\n",
       "8   1G1FZ6S05K4100048   EV_RANGE  2020-06-01 11:55:51        199.0\n",
       "14  1G1FZ6S05K4100048   EV_RANGE  2020-06-01 13:09:42        196.0\n",
       "15  1G1FZ6S05K4100048   EV_RANGE  2020-06-01 16:58:24        308.0\n",
       "22  1G1FZ6S05K4100048   EV_RANGE  2020-06-02 12:38:40        287.0\n",
       "39  1G1FZ6S05K4100048   EV_RANGE  2020-06-03 06:49:06        258.0"
      ]
     },
     "execution_count": 12,
     "metadata": {},
     "output_type": "execute_result"
    }
   ],
   "source": [
    "ev_range.head()"
   ]
  },
  {
   "cell_type": "code",
   "execution_count": 13,
   "metadata": {},
   "outputs": [
    {
     "data": {
      "text/plain": [
       "(array([-2.5,  0. ,  2.5,  5. ,  7.5, 10. , 12.5, 15. , 17.5, 20. , 22.5]),\n",
       " <a list of 11 Text xticklabel objects>)"
      ]
     },
     "execution_count": 13,
     "metadata": {},
     "output_type": "execute_result"
    },
    {
     "data": {
      "image/png": "[encoded data removed]",
      "text/plain": [
       "<Figure size 432x288 with 1 Axes>"
      ]
     },
     "metadata": {},
     "output_type": "display_data"
    }
   ],
   "source": [
    "lines = ev_range.plot.line(x='element_timstm', y='element_val',rot=0)\n",
    "plt.xticks(rotation=70)"
   ]
  },
  {
   "cell_type": "code",
   "execution_count": 16,
   "metadata": {},
   "outputs": [
    {
     "data": {
      "text/plain": [
       "[8,\n",
       " 14,\n",
       " 15,\n",
       " 22,\n",
       " 39,\n",
       " 73,\n",
       " 122,\n",
       " 133,\n",
       " 134,\n",
       " 135,\n",
       " 138,\n",
       " 146,\n",
       " 147,\n",
       " 148,\n",
       " 149,\n",
       " 150,\n",
       " 151,\n",
       " 152,\n",
       " 153,\n",
       " 154,\n",
       " 155]"
      ]
     },
     "execution_count": 16,
     "metadata": {},
     "output_type": "execute_result"
    }
   ],
   "source": [
    "index = data.index[data['element_cd'] == \"EV_RANGE\"].tolist()\n",
    "index"
   ]
  },
  {
   "cell_type": "code",
   "execution_count": 25,
   "metadata": {},
   "outputs": [
    {
     "data": {
      "text/plain": [
       "[151.984375,\n",
       " 209.75,\n",
       " 0,\n",
       " 664.328125,\n",
       " 2365.453125,\n",
       " 7631.109375,\n",
       " 14134.921875,\n",
       " 3378.828125,\n",
       " 0,\n",
       " 0,\n",
       " 958.390625,\n",
       " 4222.03125,\n",
       " 0,\n",
       " 0,\n",
       " 0,\n",
       " 0,\n",
       " 0,\n",
       " 0,\n",
       " 0,\n",
       " 0,\n",
       " 0]"
      ]
     },
     "execution_count": 25,
     "metadata": {},
     "output_type": "execute_result"
    }
   ],
   "source": [
    "lower = 1\n",
    "upper = 0\n",
    "summed = []\n",
    "temp = 0\n",
    "for i in index:\n",
    "    upper = i\n",
    "    for j in range(lower, upper):\n",
    "        temp = temp+float(data.iloc[j,3])-11796.531250\n",
    "    lower = upper + 1\n",
    "    summed.append(temp)\n",
    "    temp = 0\n",
    "\n",
    "summed"
   ]
  },
  {
   "cell_type": "code",
   "execution_count": null,
   "metadata": {},
   "outputs": [],
   "source": []
  }
 ],
 "metadata": {
  "kernelspec": {
   "display_name": "Python 3",
   "language": "python",
   "name": "python3"
  },
  "language_info": {
   "codemirror_mode": {
    "name": "ipython",
    "version": 3
   },
   "file_extension": ".py",
   "mimetype": "text/x-python",
   "name": "python",
   "nbconvert_exporter": "python",
   "pygments_lexer": "ipython3",
   "version": "3.7.6"
  }
 },
 "nbformat": 4,
 "nbformat_minor": 4
}
