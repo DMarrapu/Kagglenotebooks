{
 "cells": [
  {
   "cell_type": "code",
   "execution_count": 2,
   "metadata": {},
   "outputs": [],
   "source": [
    "import pandas as pd\n",
    "import numpy as np\n",
    "import matplotlib.pyplot as plt\n",
    "import seaborn as sns"
   ]
  },
  {
   "cell_type": "code",
   "execution_count": 3,
   "metadata": {},
   "outputs": [],
   "source": [
    "%matplotlib inline\n",
    "sns.set_style('darkgrid')"
   ]
  },
  {
   "cell_type": "code",
   "execution_count": 4,
   "metadata": {},
   "outputs": [
    {
     "data": {
      "text/html": [
       "<div>\n",
       "<style scoped>\n",
       "    .dataframe tbody tr th:only-of-type {\n",
       "        vertical-align: middle;\n",
       "    }\n",
       "\n",
       "    .dataframe tbody tr th {\n",
       "        vertical-align: top;\n",
       "    }\n",
       "\n",
       "    .dataframe thead th {\n",
       "        text-align: right;\n",
       "    }\n",
       "</style>\n",
       "<table border=\"1\" class=\"dataframe\">\n",
       "  <thead>\n",
       "    <tr style=\"text-align: right;\">\n",
       "      <th></th>\n",
       "      <th>vin_nbr</th>\n",
       "      <th>element_cd</th>\n",
       "      <th>min</th>\n",
       "      <th>max</th>\n",
       "    </tr>\n",
       "  </thead>\n",
       "  <tbody>\n",
       "    <tr>\n",
       "      <th>0</th>\n",
       "      <td>1G1FB6S0XN40005EX</td>\n",
       "      <td>LIFETIME_ENERGY_USED</td>\n",
       "      <td>5436.5</td>\n",
       "      <td>5436.5</td>\n",
       "    </tr>\n",
       "    <tr>\n",
       "      <th>1</th>\n",
       "      <td>1G1FW6S00H4124761</td>\n",
       "      <td>LIFETIME_ENERGY_USED</td>\n",
       "      <td>27445.1</td>\n",
       "      <td>27474.1</td>\n",
       "    </tr>\n",
       "    <tr>\n",
       "      <th>2</th>\n",
       "      <td>1G1FW6S00H4128101</td>\n",
       "      <td>LIFETIME_ENERGY_USED</td>\n",
       "      <td>7380.2</td>\n",
       "      <td>7380.2</td>\n",
       "    </tr>\n",
       "    <tr>\n",
       "      <th>3</th>\n",
       "      <td>1G1FW6S00H4128776</td>\n",
       "      <td>LIFETIME_ENERGY_USED</td>\n",
       "      <td>13006.6</td>\n",
       "      <td>13020.5</td>\n",
       "    </tr>\n",
       "    <tr>\n",
       "      <th>4</th>\n",
       "      <td>1G1FW6S00H4133279</td>\n",
       "      <td>LIFETIME_ENERGY_USED</td>\n",
       "      <td>19167.9</td>\n",
       "      <td>19167.9</td>\n",
       "    </tr>\n",
       "  </tbody>\n",
       "</table>\n",
       "</div>"
      ],
      "text/plain": [
       "             vin_nbr            element_cd      min      max\n",
       "0  1G1FB6S0XN40005EX  LIFETIME_ENERGY_USED   5436.5   5436.5\n",
       "1  1G1FW6S00H4124761  LIFETIME_ENERGY_USED  27445.1  27474.1\n",
       "2  1G1FW6S00H4128101  LIFETIME_ENERGY_USED   7380.2   7380.2\n",
       "3  1G1FW6S00H4128776  LIFETIME_ENERGY_USED  13006.6  13020.5\n",
       "4  1G1FW6S00H4133279  LIFETIME_ENERGY_USED  19167.9  19167.9"
      ]
     },
     "execution_count": 4,
     "metadata": {},
     "output_type": "execute_result"
    }
   ],
   "source": [
    "rdata = pd.read_csv('raw_eng.csv')\n",
    "rdata.head()"
   ]
  },
  {
   "cell_type": "code",
   "execution_count": null,
   "metadata": {},
   "outputs": [],
   "source": []
  },
  {
   "cell_type": "code",
   "execution_count": null,
   "metadata": {},
   "outputs": [],
   "source": []
  },
  {
   "cell_type": "code",
   "execution_count": 5,
   "metadata": {},
   "outputs": [
    {
     "name": "stdout",
     "output_type": "stream",
     "text": [
      "<class 'pandas.core.frame.DataFrame'>\n",
      "RangeIndex: 37314 entries, 0 to 37313\n",
      "Data columns (total 4 columns):\n",
      " #   Column      Non-Null Count  Dtype  \n",
      "---  ------      --------------  -----  \n",
      " 0   vin_nbr     37314 non-null  object \n",
      " 1   element_cd  37314 non-null  object \n",
      " 2   min         37314 non-null  float64\n",
      " 3   max         37314 non-null  float64\n",
      "dtypes: float64(2), object(2)\n",
      "memory usage: 1.1+ MB\n"
     ]
    }
   ],
   "source": [
    "rdata.info()"
   ]
  },
  {
   "cell_type": "code",
   "execution_count": 6,
   "metadata": {},
   "outputs": [
    {
     "data": {
      "text/html": [
       "<div>\n",
       "<style scoped>\n",
       "    .dataframe tbody tr th:only-of-type {\n",
       "        vertical-align: middle;\n",
       "    }\n",
       "\n",
       "    .dataframe tbody tr th {\n",
       "        vertical-align: top;\n",
       "    }\n",
       "\n",
       "    .dataframe thead th {\n",
       "        text-align: right;\n",
       "    }\n",
       "</style>\n",
       "<table border=\"1\" class=\"dataframe\">\n",
       "  <thead>\n",
       "    <tr style=\"text-align: right;\">\n",
       "      <th></th>\n",
       "      <th>vin_nbr</th>\n",
       "      <th>charge_start_timstm</th>\n",
       "      <th>charge_end_timstm</th>\n",
       "      <th>charge_kwh_qty</th>\n",
       "    </tr>\n",
       "  </thead>\n",
       "  <tbody>\n",
       "    <tr>\n",
       "      <th>0</th>\n",
       "      <td>1G1RA6E41FU100024</td>\n",
       "      <td>2020-06-18 18:12:50</td>\n",
       "      <td>2020-06-18 21:59:27</td>\n",
       "      <td>12.3</td>\n",
       "    </tr>\n",
       "    <tr>\n",
       "      <th>1</th>\n",
       "      <td>1G1RB6E43FU100006</td>\n",
       "      <td>2020-06-17 11:50:34</td>\n",
       "      <td>2020-06-17 13:02:27</td>\n",
       "      <td>4.0</td>\n",
       "    </tr>\n",
       "    <tr>\n",
       "      <th>2</th>\n",
       "      <td>1G1RB6E43FU100006</td>\n",
       "      <td>2020-06-17 11:50:34</td>\n",
       "      <td>2020-06-17 13:02:27</td>\n",
       "      <td>4.0</td>\n",
       "    </tr>\n",
       "    <tr>\n",
       "      <th>3</th>\n",
       "      <td>1G1RB6E48FU106609</td>\n",
       "      <td>2020-06-18 16:14:00</td>\n",
       "      <td>2020-06-19 01:56:24</td>\n",
       "      <td>8.3</td>\n",
       "    </tr>\n",
       "    <tr>\n",
       "      <th>4</th>\n",
       "      <td>1G1RB6E4XFU110984</td>\n",
       "      <td>2020-06-18 15:03:57</td>\n",
       "      <td>2020-06-18 17:06:59</td>\n",
       "      <td>6.4</td>\n",
       "    </tr>\n",
       "  </tbody>\n",
       "</table>\n",
       "</div>"
      ],
      "text/plain": [
       "             vin_nbr  charge_start_timstm    charge_end_timstm  charge_kwh_qty\n",
       "0  1G1RA6E41FU100024  2020-06-18 18:12:50  2020-06-18 21:59:27            12.3\n",
       "1  1G1RB6E43FU100006  2020-06-17 11:50:34  2020-06-17 13:02:27             4.0\n",
       "2  1G1RB6E43FU100006  2020-06-17 11:50:34  2020-06-17 13:02:27             4.0\n",
       "3  1G1RB6E48FU106609  2020-06-18 16:14:00  2020-06-19 01:56:24             8.3\n",
       "4  1G1RB6E4XFU110984  2020-06-18 15:03:57  2020-06-18 17:06:59             6.4"
      ]
     },
     "execution_count": 6,
     "metadata": {},
     "output_type": "execute_result"
    }
   ],
   "source": [
    "ddata = pd.read_csv('derived_eng.csv')\n",
    "ddata.drop_duplicates()\n",
    "ddata.head()"
   ]
  },
  {
   "cell_type": "code",
   "execution_count": 7,
   "metadata": {},
   "outputs": [
    {
     "name": "stdout",
     "output_type": "stream",
     "text": [
      "<class 'pandas.core.frame.DataFrame'>\n",
      "RangeIndex: 56084 entries, 0 to 56083\n",
      "Data columns (total 4 columns):\n",
      " #   Column               Non-Null Count  Dtype  \n",
      "---  ------               --------------  -----  \n",
      " 0   vin_nbr              56084 non-null  object \n",
      " 1   charge_start_timstm  56084 non-null  object \n",
      " 2   charge_end_timstm    56084 non-null  object \n",
      " 3   charge_kwh_qty       56084 non-null  float64\n",
      "dtypes: float64(1), object(3)\n",
      "memory usage: 1.7+ MB\n"
     ]
    }
   ],
   "source": [
    "ddata.info()"
   ]
  },
  {
   "cell_type": "code",
   "execution_count": 8,
   "metadata": {},
   "outputs": [
    {
     "data": {
      "text/html": [
       "<div>\n",
       "<style scoped>\n",
       "    .dataframe tbody tr th:only-of-type {\n",
       "        vertical-align: middle;\n",
       "    }\n",
       "\n",
       "    .dataframe tbody tr th {\n",
       "        vertical-align: top;\n",
       "    }\n",
       "\n",
       "    .dataframe thead th {\n",
       "        text-align: right;\n",
       "    }\n",
       "</style>\n",
       "<table border=\"1\" class=\"dataframe\">\n",
       "  <thead>\n",
       "    <tr style=\"text-align: right;\">\n",
       "      <th></th>\n",
       "      <th>charge_start_timstm</th>\n",
       "      <th>charge_end_timstm</th>\n",
       "      <th>charge_kwh_qty</th>\n",
       "    </tr>\n",
       "    <tr>\n",
       "      <th>vin_nbr</th>\n",
       "      <th></th>\n",
       "      <th></th>\n",
       "      <th></th>\n",
       "    </tr>\n",
       "  </thead>\n",
       "  <tbody>\n",
       "    <tr>\n",
       "      <th>1G1FB6S0XN40005EX</th>\n",
       "      <td>2020-06-18 11:50:34</td>\n",
       "      <td>2020-06-19 03:54:19</td>\n",
       "      <td>0.0</td>\n",
       "    </tr>\n",
       "    <tr>\n",
       "      <th>1G1FW6S00H4124761</th>\n",
       "      <td>2020-06-19 07:53:34</td>\n",
       "      <td>2020-06-19 12:02:46</td>\n",
       "      <td>29.0</td>\n",
       "    </tr>\n",
       "    <tr>\n",
       "      <th>1G1FW6S00H4128101</th>\n",
       "      <td>2020-06-18 12:36:12</td>\n",
       "      <td>2020-06-19 00:45:20</td>\n",
       "      <td>46.1</td>\n",
       "    </tr>\n",
       "    <tr>\n",
       "      <th>1G1FW6S00H4128311</th>\n",
       "      <td>2020-06-18 20:00:16</td>\n",
       "      <td>2020-06-19 08:10:08</td>\n",
       "      <td>13.1</td>\n",
       "    </tr>\n",
       "    <tr>\n",
       "      <th>1G1FW6S00H4128776</th>\n",
       "      <td>2020-06-18 19:01:26</td>\n",
       "      <td>2020-06-18 20:59:21</td>\n",
       "      <td>13.9</td>\n",
       "    </tr>\n",
       "  </tbody>\n",
       "</table>\n",
       "</div>"
      ],
      "text/plain": [
       "                   charge_start_timstm    charge_end_timstm  charge_kwh_qty\n",
       "vin_nbr                                                                    \n",
       "1G1FB6S0XN40005EX  2020-06-18 11:50:34  2020-06-19 03:54:19             0.0\n",
       "1G1FW6S00H4124761  2020-06-19 07:53:34  2020-06-19 12:02:46            29.0\n",
       "1G1FW6S00H4128101  2020-06-18 12:36:12  2020-06-19 00:45:20            46.1\n",
       "1G1FW6S00H4128311  2020-06-18 20:00:16  2020-06-19 08:10:08            13.1\n",
       "1G1FW6S00H4128776  2020-06-18 19:01:26  2020-06-18 20:59:21            13.9"
      ]
     },
     "execution_count": 8,
     "metadata": {},
     "output_type": "execute_result"
    }
   ],
   "source": [
    "aggregate_functions = {'charge_start_timstm' : 'first','charge_end_timstm' : 'last','charge_kwh_qty' : 'sum'}\n",
    "ddata = ddata.groupby(ddata['vin_nbr']).aggregate(aggregate_functions)\n",
    "ddata.head()"
   ]
  },
  {
   "cell_type": "code",
   "execution_count": 9,
   "metadata": {},
   "outputs": [
    {
     "name": "stdout",
     "output_type": "stream",
     "text": [
      "<class 'pandas.core.frame.DataFrame'>\n",
      "Index: 37418 entries, 1G1FB6S0XN40005EX to LREKK5RXXJA013142\n",
      "Data columns (total 3 columns):\n",
      " #   Column               Non-Null Count  Dtype  \n",
      "---  ------               --------------  -----  \n",
      " 0   charge_start_timstm  37418 non-null  object \n",
      " 1   charge_end_timstm    37418 non-null  object \n",
      " 2   charge_kwh_qty       37418 non-null  float64\n",
      "dtypes: float64(1), object(2)\n",
      "memory usage: 1.1+ MB\n"
     ]
    }
   ],
   "source": [
    "ddata.info()"
   ]
  },
  {
   "cell_type": "code",
   "execution_count": 10,
   "metadata": {},
   "outputs": [
    {
     "data": {
      "text/html": [
       "<div>\n",
       "<style scoped>\n",
       "    .dataframe tbody tr th:only-of-type {\n",
       "        vertical-align: middle;\n",
       "    }\n",
       "\n",
       "    .dataframe tbody tr th {\n",
       "        vertical-align: top;\n",
       "    }\n",
       "\n",
       "    .dataframe thead th {\n",
       "        text-align: right;\n",
       "    }\n",
       "</style>\n",
       "<table border=\"1\" class=\"dataframe\">\n",
       "  <thead>\n",
       "    <tr style=\"text-align: right;\">\n",
       "      <th></th>\n",
       "      <th>vin_nbr</th>\n",
       "      <th>charge_start_timstm</th>\n",
       "      <th>charge_end_timstm</th>\n",
       "      <th>charge_kwh_qty</th>\n",
       "      <th>element_cd</th>\n",
       "      <th>min</th>\n",
       "      <th>max</th>\n",
       "    </tr>\n",
       "  </thead>\n",
       "  <tbody>\n",
       "    <tr>\n",
       "      <th>0</th>\n",
       "      <td>1G1FB6S0XN40005EX</td>\n",
       "      <td>2020-06-18 11:50:34</td>\n",
       "      <td>2020-06-19 03:54:19</td>\n",
       "      <td>0.0</td>\n",
       "      <td>LIFETIME_ENERGY_USED</td>\n",
       "      <td>5436.5</td>\n",
       "      <td>5436.5</td>\n",
       "    </tr>\n",
       "    <tr>\n",
       "      <th>1</th>\n",
       "      <td>1G1FW6S00H4124761</td>\n",
       "      <td>2020-06-19 07:53:34</td>\n",
       "      <td>2020-06-19 12:02:46</td>\n",
       "      <td>29.0</td>\n",
       "      <td>LIFETIME_ENERGY_USED</td>\n",
       "      <td>27445.1</td>\n",
       "      <td>27474.1</td>\n",
       "    </tr>\n",
       "    <tr>\n",
       "      <th>2</th>\n",
       "      <td>1G1FW6S00H4128101</td>\n",
       "      <td>2020-06-18 12:36:12</td>\n",
       "      <td>2020-06-19 00:45:20</td>\n",
       "      <td>46.1</td>\n",
       "      <td>LIFETIME_ENERGY_USED</td>\n",
       "      <td>7380.2</td>\n",
       "      <td>7380.2</td>\n",
       "    </tr>\n",
       "    <tr>\n",
       "      <th>3</th>\n",
       "      <td>1G1FW6S00H4128311</td>\n",
       "      <td>2020-06-18 20:00:16</td>\n",
       "      <td>2020-06-19 08:10:08</td>\n",
       "      <td>13.1</td>\n",
       "      <td>LIFETIME_ENERGY_USED</td>\n",
       "      <td>17447.2</td>\n",
       "      <td>17460.3</td>\n",
       "    </tr>\n",
       "    <tr>\n",
       "      <th>4</th>\n",
       "      <td>1G1FW6S00H4128776</td>\n",
       "      <td>2020-06-18 19:01:26</td>\n",
       "      <td>2020-06-18 20:59:21</td>\n",
       "      <td>13.9</td>\n",
       "      <td>LIFETIME_ENERGY_USED</td>\n",
       "      <td>13006.6</td>\n",
       "      <td>13020.5</td>\n",
       "    </tr>\n",
       "  </tbody>\n",
       "</table>\n",
       "</div>"
      ],
      "text/plain": [
       "             vin_nbr  charge_start_timstm    charge_end_timstm  \\\n",
       "0  1G1FB6S0XN40005EX  2020-06-18 11:50:34  2020-06-19 03:54:19   \n",
       "1  1G1FW6S00H4124761  2020-06-19 07:53:34  2020-06-19 12:02:46   \n",
       "2  1G1FW6S00H4128101  2020-06-18 12:36:12  2020-06-19 00:45:20   \n",
       "3  1G1FW6S00H4128311  2020-06-18 20:00:16  2020-06-19 08:10:08   \n",
       "4  1G1FW6S00H4128776  2020-06-18 19:01:26  2020-06-18 20:59:21   \n",
       "\n",
       "   charge_kwh_qty            element_cd      min      max  \n",
       "0             0.0  LIFETIME_ENERGY_USED   5436.5   5436.5  \n",
       "1            29.0  LIFETIME_ENERGY_USED  27445.1  27474.1  \n",
       "2            46.1  LIFETIME_ENERGY_USED   7380.2   7380.2  \n",
       "3            13.1  LIFETIME_ENERGY_USED  17447.2  17460.3  \n",
       "4            13.9  LIFETIME_ENERGY_USED  13006.6  13020.5  "
      ]
     },
     "execution_count": 10,
     "metadata": {},
     "output_type": "execute_result"
    }
   ],
   "source": [
    "mdata = ddata.merge(rdata,'outer',on = 'vin_nbr')\n",
    "mdata.head()"
   ]
  },
  {
   "cell_type": "code",
   "execution_count": 11,
   "metadata": {},
   "outputs": [
    {
     "name": "stdout",
     "output_type": "stream",
     "text": [
      "<class 'pandas.core.frame.DataFrame'>\n",
      "Int64Index: 37463 entries, 0 to 37462\n",
      "Data columns (total 7 columns):\n",
      " #   Column               Non-Null Count  Dtype  \n",
      "---  ------               --------------  -----  \n",
      " 0   vin_nbr              37463 non-null  object \n",
      " 1   charge_start_timstm  37418 non-null  object \n",
      " 2   charge_end_timstm    37418 non-null  object \n",
      " 3   charge_kwh_qty       37418 non-null  float64\n",
      " 4   element_cd           37314 non-null  object \n",
      " 5   min                  37314 non-null  float64\n",
      " 6   max                  37314 non-null  float64\n",
      "dtypes: float64(3), object(4)\n",
      "memory usage: 2.3+ MB\n"
     ]
    }
   ],
   "source": [
    "mdata.info()"
   ]
  },
  {
   "cell_type": "code",
   "execution_count": 12,
   "metadata": {},
   "outputs": [
    {
     "name": "stdout",
     "output_type": "stream",
     "text": [
      "<class 'pandas.core.frame.DataFrame'>\n",
      "Int64Index: 37269 entries, 0 to 37417\n",
      "Data columns (total 7 columns):\n",
      " #   Column               Non-Null Count  Dtype  \n",
      "---  ------               --------------  -----  \n",
      " 0   vin_nbr              37269 non-null  object \n",
      " 1   charge_start_timstm  37269 non-null  object \n",
      " 2   charge_end_timstm    37269 non-null  object \n",
      " 3   charge_kwh_qty       37269 non-null  float64\n",
      " 4   element_cd           37269 non-null  object \n",
      " 5   min                  37269 non-null  float64\n",
      " 6   max                  37269 non-null  float64\n",
      "dtypes: float64(3), object(4)\n",
      "memory usage: 2.3+ MB\n"
     ]
    }
   ],
   "source": [
    "mdata = mdata.dropna(how = 'any', axis=0)\n",
    "mdata.info()"
   ]
  },
  {
   "cell_type": "code",
   "execution_count": 13,
   "metadata": {},
   "outputs": [
    {
     "data": {
      "text/html": [
       "<div>\n",
       "<style scoped>\n",
       "    .dataframe tbody tr th:only-of-type {\n",
       "        vertical-align: middle;\n",
       "    }\n",
       "\n",
       "    .dataframe tbody tr th {\n",
       "        vertical-align: top;\n",
       "    }\n",
       "\n",
       "    .dataframe thead th {\n",
       "        text-align: right;\n",
       "    }\n",
       "</style>\n",
       "<table border=\"1\" class=\"dataframe\">\n",
       "  <thead>\n",
       "    <tr style=\"text-align: right;\">\n",
       "      <th></th>\n",
       "      <th>vin_nbr</th>\n",
       "      <th>charge_start_timstm</th>\n",
       "      <th>charge_end_timstm</th>\n",
       "      <th>charge_kwh_qty</th>\n",
       "      <th>element_cd</th>\n",
       "      <th>min</th>\n",
       "      <th>max</th>\n",
       "      <th>diff</th>\n",
       "    </tr>\n",
       "  </thead>\n",
       "  <tbody>\n",
       "    <tr>\n",
       "      <th>0</th>\n",
       "      <td>1G1FB6S0XN40005EX</td>\n",
       "      <td>2020-06-18 11:50:34</td>\n",
       "      <td>2020-06-19 03:54:19</td>\n",
       "      <td>0.0</td>\n",
       "      <td>LIFETIME_ENERGY_USED</td>\n",
       "      <td>5436.5</td>\n",
       "      <td>5436.5</td>\n",
       "      <td>0.0</td>\n",
       "    </tr>\n",
       "    <tr>\n",
       "      <th>1</th>\n",
       "      <td>1G1FW6S00H4124761</td>\n",
       "      <td>2020-06-19 07:53:34</td>\n",
       "      <td>2020-06-19 12:02:46</td>\n",
       "      <td>29.0</td>\n",
       "      <td>LIFETIME_ENERGY_USED</td>\n",
       "      <td>27445.1</td>\n",
       "      <td>27474.1</td>\n",
       "      <td>29.0</td>\n",
       "    </tr>\n",
       "    <tr>\n",
       "      <th>2</th>\n",
       "      <td>1G1FW6S00H4128101</td>\n",
       "      <td>2020-06-18 12:36:12</td>\n",
       "      <td>2020-06-19 00:45:20</td>\n",
       "      <td>46.1</td>\n",
       "      <td>LIFETIME_ENERGY_USED</td>\n",
       "      <td>7380.2</td>\n",
       "      <td>7380.2</td>\n",
       "      <td>0.0</td>\n",
       "    </tr>\n",
       "    <tr>\n",
       "      <th>3</th>\n",
       "      <td>1G1FW6S00H4128311</td>\n",
       "      <td>2020-06-18 20:00:16</td>\n",
       "      <td>2020-06-19 08:10:08</td>\n",
       "      <td>13.1</td>\n",
       "      <td>LIFETIME_ENERGY_USED</td>\n",
       "      <td>17447.2</td>\n",
       "      <td>17460.3</td>\n",
       "      <td>13.1</td>\n",
       "    </tr>\n",
       "    <tr>\n",
       "      <th>4</th>\n",
       "      <td>1G1FW6S00H4128776</td>\n",
       "      <td>2020-06-18 19:01:26</td>\n",
       "      <td>2020-06-18 20:59:21</td>\n",
       "      <td>13.9</td>\n",
       "      <td>LIFETIME_ENERGY_USED</td>\n",
       "      <td>13006.6</td>\n",
       "      <td>13020.5</td>\n",
       "      <td>13.9</td>\n",
       "    </tr>\n",
       "  </tbody>\n",
       "</table>\n",
       "</div>"
      ],
      "text/plain": [
       "             vin_nbr  charge_start_timstm    charge_end_timstm  \\\n",
       "0  1G1FB6S0XN40005EX  2020-06-18 11:50:34  2020-06-19 03:54:19   \n",
       "1  1G1FW6S00H4124761  2020-06-19 07:53:34  2020-06-19 12:02:46   \n",
       "2  1G1FW6S00H4128101  2020-06-18 12:36:12  2020-06-19 00:45:20   \n",
       "3  1G1FW6S00H4128311  2020-06-18 20:00:16  2020-06-19 08:10:08   \n",
       "4  1G1FW6S00H4128776  2020-06-18 19:01:26  2020-06-18 20:59:21   \n",
       "\n",
       "   charge_kwh_qty            element_cd      min      max  diff  \n",
       "0             0.0  LIFETIME_ENERGY_USED   5436.5   5436.5   0.0  \n",
       "1            29.0  LIFETIME_ENERGY_USED  27445.1  27474.1  29.0  \n",
       "2            46.1  LIFETIME_ENERGY_USED   7380.2   7380.2   0.0  \n",
       "3            13.1  LIFETIME_ENERGY_USED  17447.2  17460.3  13.1  \n",
       "4            13.9  LIFETIME_ENERGY_USED  13006.6  13020.5  13.9  "
      ]
     },
     "execution_count": 13,
     "metadata": {},
     "output_type": "execute_result"
    }
   ],
   "source": [
    "mdata['diff'] = mdata['max']-mdata['min']\n",
    "mdata.head()"
   ]
  },
  {
   "cell_type": "code",
   "execution_count": 15,
   "metadata": {},
   "outputs": [
    {
     "data": {
      "text/plain": [
       "8382"
      ]
     },
     "execution_count": 15,
     "metadata": {},
     "output_type": "execute_result"
    }
   ],
   "source": [
    "mdata['diff'].idxmax()"
   ]
  },
  {
   "cell_type": "code",
   "execution_count": 18,
   "metadata": {},
   "outputs": [
    {
     "data": {
      "text/plain": [
       "vin_nbr                   1G1FX6S0XH4189131\n",
       "charge_start_timstm     2020-06-18 12:09:58\n",
       "charge_end_timstm       2020-06-18 13:46:58\n",
       "charge_kwh_qty                         12.4\n",
       "element_cd             LIFETIME_ENERGY_USED\n",
       "min                                 17870.7\n",
       "max                                 17870.7\n",
       "diff                                      0\n",
       "Name: 8406, dtype: object"
      ]
     },
     "execution_count": 18,
     "metadata": {},
     "output_type": "execute_result"
    }
   ],
   "source": [
    "mdata.iloc[8382] "
   ]
  },
  {
   "cell_type": "code",
   "execution_count": 13,
   "metadata": {},
   "outputs": [
    {
     "data": {
      "text/plain": [
       "15844"
      ]
     },
     "execution_count": 13,
     "metadata": {},
     "output_type": "execute_result"
    }
   ],
   "source": [
    "sum(n == 0 for n in mdata['diff'])"
   ]
  },
  {
   "cell_type": "code",
   "execution_count": 14,
   "metadata": {},
   "outputs": [
    {
     "data": {
      "text/html": [
       "<div>\n",
       "<style scoped>\n",
       "    .dataframe tbody tr th:only-of-type {\n",
       "        vertical-align: middle;\n",
       "    }\n",
       "\n",
       "    .dataframe tbody tr th {\n",
       "        vertical-align: top;\n",
       "    }\n",
       "\n",
       "    .dataframe thead th {\n",
       "        text-align: right;\n",
       "    }\n",
       "</style>\n",
       "<table border=\"1\" class=\"dataframe\">\n",
       "  <thead>\n",
       "    <tr style=\"text-align: right;\">\n",
       "      <th></th>\n",
       "      <th>vin_nbr</th>\n",
       "      <th>charge_start_timstm</th>\n",
       "      <th>charge_end_timstm</th>\n",
       "      <th>charge_kwh_qty</th>\n",
       "      <th>element_cd</th>\n",
       "      <th>min</th>\n",
       "      <th>max</th>\n",
       "      <th>diff</th>\n",
       "    </tr>\n",
       "  </thead>\n",
       "  <tbody>\n",
       "    <tr>\n",
       "      <th>0</th>\n",
       "      <td>1G1FB6S0XN40005EX</td>\n",
       "      <td>2020-06-18 11:50:34</td>\n",
       "      <td>2020-06-19 03:54:19</td>\n",
       "      <td>0.0</td>\n",
       "      <td>LIFETIME_ENERGY_USED</td>\n",
       "      <td>5436.5</td>\n",
       "      <td>5436.5</td>\n",
       "      <td>0.0</td>\n",
       "    </tr>\n",
       "    <tr>\n",
       "      <th>2</th>\n",
       "      <td>1G1FW6S00H4128101</td>\n",
       "      <td>2020-06-18 12:36:12</td>\n",
       "      <td>2020-06-19 00:45:20</td>\n",
       "      <td>46.1</td>\n",
       "      <td>LIFETIME_ENERGY_USED</td>\n",
       "      <td>7380.2</td>\n",
       "      <td>7380.2</td>\n",
       "      <td>0.0</td>\n",
       "    </tr>\n",
       "    <tr>\n",
       "      <th>8</th>\n",
       "      <td>1G1FW6S00H4131659</td>\n",
       "      <td>2020-06-17 21:08:00</td>\n",
       "      <td>2020-06-17 23:58:24</td>\n",
       "      <td>39.0</td>\n",
       "      <td>LIFETIME_ENERGY_USED</td>\n",
       "      <td>12624.8</td>\n",
       "      <td>12624.8</td>\n",
       "      <td>0.0</td>\n",
       "    </tr>\n",
       "    <tr>\n",
       "      <th>9</th>\n",
       "      <td>1G1FW6S00H4133279</td>\n",
       "      <td>2020-06-16 20:01:50</td>\n",
       "      <td>2020-06-16 20:48:04</td>\n",
       "      <td>4.8</td>\n",
       "      <td>LIFETIME_ENERGY_USED</td>\n",
       "      <td>19167.9</td>\n",
       "      <td>19167.9</td>\n",
       "      <td>0.0</td>\n",
       "    </tr>\n",
       "    <tr>\n",
       "      <th>11</th>\n",
       "      <td>1G1FW6S00H4134268</td>\n",
       "      <td>2020-06-18 06:06:44</td>\n",
       "      <td>2020-06-19 00:18:18</td>\n",
       "      <td>11.3</td>\n",
       "      <td>LIFETIME_ENERGY_USED</td>\n",
       "      <td>9587.1</td>\n",
       "      <td>9587.1</td>\n",
       "      <td>0.0</td>\n",
       "    </tr>\n",
       "  </tbody>\n",
       "</table>\n",
       "</div>"
      ],
      "text/plain": [
       "              vin_nbr  charge_start_timstm    charge_end_timstm  \\\n",
       "0   1G1FB6S0XN40005EX  2020-06-18 11:50:34  2020-06-19 03:54:19   \n",
       "2   1G1FW6S00H4128101  2020-06-18 12:36:12  2020-06-19 00:45:20   \n",
       "8   1G1FW6S00H4131659  2020-06-17 21:08:00  2020-06-17 23:58:24   \n",
       "9   1G1FW6S00H4133279  2020-06-16 20:01:50  2020-06-16 20:48:04   \n",
       "11  1G1FW6S00H4134268  2020-06-18 06:06:44  2020-06-19 00:18:18   \n",
       "\n",
       "    charge_kwh_qty            element_cd      min      max  diff  \n",
       "0              0.0  LIFETIME_ENERGY_USED   5436.5   5436.5   0.0  \n",
       "2             46.1  LIFETIME_ENERGY_USED   7380.2   7380.2   0.0  \n",
       "8             39.0  LIFETIME_ENERGY_USED  12624.8  12624.8   0.0  \n",
       "9              4.8  LIFETIME_ENERGY_USED  19167.9  19167.9   0.0  \n",
       "11            11.3  LIFETIME_ENERGY_USED   9587.1   9587.1   0.0  "
      ]
     },
     "execution_count": 14,
     "metadata": {},
     "output_type": "execute_result"
    }
   ],
   "source": [
    "good = mdata[mdata['diff'] != 0].index\n",
    "baddata = mdata.drop(good,axis = 0)\n",
    "baddata.head()"
   ]
  },
  {
   "cell_type": "code",
   "execution_count": 15,
   "metadata": {},
   "outputs": [
    {
     "name": "stdout",
     "output_type": "stream",
     "text": [
      "<class 'pandas.core.frame.DataFrame'>\n",
      "Int64Index: 15844 entries, 0 to 37406\n",
      "Data columns (total 8 columns):\n",
      " #   Column               Non-Null Count  Dtype  \n",
      "---  ------               --------------  -----  \n",
      " 0   vin_nbr              15844 non-null  object \n",
      " 1   charge_start_timstm  15844 non-null  object \n",
      " 2   charge_end_timstm    15844 non-null  object \n",
      " 3   charge_kwh_qty       15844 non-null  float64\n",
      " 4   element_cd           15844 non-null  object \n",
      " 5   min                  15844 non-null  float64\n",
      " 6   max                  15844 non-null  float64\n",
      " 7   diff                 15844 non-null  float64\n",
      "dtypes: float64(4), object(4)\n",
      "memory usage: 1.1+ MB\n"
     ]
    }
   ],
   "source": [
    "baddata.info()"
   ]
  },
  {
   "cell_type": "code",
   "execution_count": 16,
   "metadata": {},
   "outputs": [],
   "source": [
    "bad = mdata[mdata['diff'] == 0].index\n",
    "mdata = mdata.drop(bad,axis = 0)"
   ]
  },
  {
   "cell_type": "code",
   "execution_count": 17,
   "metadata": {},
   "outputs": [
    {
     "data": {
      "text/html": [
       "<div>\n",
       "<style scoped>\n",
       "    .dataframe tbody tr th:only-of-type {\n",
       "        vertical-align: middle;\n",
       "    }\n",
       "\n",
       "    .dataframe tbody tr th {\n",
       "        vertical-align: top;\n",
       "    }\n",
       "\n",
       "    .dataframe thead th {\n",
       "        text-align: right;\n",
       "    }\n",
       "</style>\n",
       "<table border=\"1\" class=\"dataframe\">\n",
       "  <thead>\n",
       "    <tr style=\"text-align: right;\">\n",
       "      <th></th>\n",
       "      <th>vin_nbr</th>\n",
       "      <th>charge_start_timstm</th>\n",
       "      <th>charge_end_timstm</th>\n",
       "      <th>charge_kwh_qty</th>\n",
       "      <th>element_cd</th>\n",
       "      <th>min</th>\n",
       "      <th>max</th>\n",
       "      <th>diff</th>\n",
       "    </tr>\n",
       "  </thead>\n",
       "  <tbody>\n",
       "    <tr>\n",
       "      <th>1</th>\n",
       "      <td>1G1FW6S00H4124761</td>\n",
       "      <td>2020-06-19 07:53:34</td>\n",
       "      <td>2020-06-19 12:02:46</td>\n",
       "      <td>29.0</td>\n",
       "      <td>LIFETIME_ENERGY_USED</td>\n",
       "      <td>27445.1</td>\n",
       "      <td>27474.1</td>\n",
       "      <td>29.0</td>\n",
       "    </tr>\n",
       "    <tr>\n",
       "      <th>3</th>\n",
       "      <td>1G1FW6S00H4128311</td>\n",
       "      <td>2020-06-18 20:00:16</td>\n",
       "      <td>2020-06-19 08:10:08</td>\n",
       "      <td>13.1</td>\n",
       "      <td>LIFETIME_ENERGY_USED</td>\n",
       "      <td>17447.2</td>\n",
       "      <td>17460.3</td>\n",
       "      <td>13.1</td>\n",
       "    </tr>\n",
       "    <tr>\n",
       "      <th>4</th>\n",
       "      <td>1G1FW6S00H4128776</td>\n",
       "      <td>2020-06-18 19:01:26</td>\n",
       "      <td>2020-06-18 20:59:21</td>\n",
       "      <td>13.9</td>\n",
       "      <td>LIFETIME_ENERGY_USED</td>\n",
       "      <td>13006.6</td>\n",
       "      <td>13020.5</td>\n",
       "      <td>13.9</td>\n",
       "    </tr>\n",
       "    <tr>\n",
       "      <th>5</th>\n",
       "      <td>1G1FW6S00H4129166</td>\n",
       "      <td>2020-06-18 17:24:18</td>\n",
       "      <td>2020-06-18 22:04:47</td>\n",
       "      <td>32.9</td>\n",
       "      <td>LIFETIME_ENERGY_USED</td>\n",
       "      <td>27827.1</td>\n",
       "      <td>27860.0</td>\n",
       "      <td>32.9</td>\n",
       "    </tr>\n",
       "    <tr>\n",
       "      <th>6</th>\n",
       "      <td>1G1FW6S00H4129636</td>\n",
       "      <td>2020-06-18 20:00:37</td>\n",
       "      <td>2020-06-18 21:01:15</td>\n",
       "      <td>7.3</td>\n",
       "      <td>LIFETIME_ENERGY_USED</td>\n",
       "      <td>16701.2</td>\n",
       "      <td>16708.5</td>\n",
       "      <td>7.3</td>\n",
       "    </tr>\n",
       "  </tbody>\n",
       "</table>\n",
       "</div>"
      ],
      "text/plain": [
       "             vin_nbr  charge_start_timstm    charge_end_timstm  \\\n",
       "1  1G1FW6S00H4124761  2020-06-19 07:53:34  2020-06-19 12:02:46   \n",
       "3  1G1FW6S00H4128311  2020-06-18 20:00:16  2020-06-19 08:10:08   \n",
       "4  1G1FW6S00H4128776  2020-06-18 19:01:26  2020-06-18 20:59:21   \n",
       "5  1G1FW6S00H4129166  2020-06-18 17:24:18  2020-06-18 22:04:47   \n",
       "6  1G1FW6S00H4129636  2020-06-18 20:00:37  2020-06-18 21:01:15   \n",
       "\n",
       "   charge_kwh_qty            element_cd      min      max  diff  \n",
       "1            29.0  LIFETIME_ENERGY_USED  27445.1  27474.1  29.0  \n",
       "3            13.1  LIFETIME_ENERGY_USED  17447.2  17460.3  13.1  \n",
       "4            13.9  LIFETIME_ENERGY_USED  13006.6  13020.5  13.9  \n",
       "5            32.9  LIFETIME_ENERGY_USED  27827.1  27860.0  32.9  \n",
       "6             7.3  LIFETIME_ENERGY_USED  16701.2  16708.5   7.3  "
      ]
     },
     "execution_count": 17,
     "metadata": {},
     "output_type": "execute_result"
    }
   ],
   "source": [
    "mdata.head()"
   ]
  },
  {
   "cell_type": "code",
   "execution_count": 18,
   "metadata": {},
   "outputs": [
    {
     "name": "stdout",
     "output_type": "stream",
     "text": [
      "<class 'pandas.core.frame.DataFrame'>\n",
      "Int64Index: 21425 entries, 1 to 37417\n",
      "Data columns (total 8 columns):\n",
      " #   Column               Non-Null Count  Dtype  \n",
      "---  ------               --------------  -----  \n",
      " 0   vin_nbr              21425 non-null  object \n",
      " 1   charge_start_timstm  21425 non-null  object \n",
      " 2   charge_end_timstm    21425 non-null  object \n",
      " 3   charge_kwh_qty       21425 non-null  float64\n",
      " 4   element_cd           21425 non-null  object \n",
      " 5   min                  21425 non-null  float64\n",
      " 6   max                  21425 non-null  float64\n",
      " 7   diff                 21425 non-null  float64\n",
      "dtypes: float64(4), object(4)\n",
      "memory usage: 1.5+ MB\n"
     ]
    }
   ],
   "source": [
    "mdata.info()"
   ]
  },
  {
   "cell_type": "code",
   "execution_count": 19,
   "metadata": {},
   "outputs": [
    {
     "data": {
      "text/html": [
       "<div>\n",
       "<style scoped>\n",
       "    .dataframe tbody tr th:only-of-type {\n",
       "        vertical-align: middle;\n",
       "    }\n",
       "\n",
       "    .dataframe tbody tr th {\n",
       "        vertical-align: top;\n",
       "    }\n",
       "\n",
       "    .dataframe thead th {\n",
       "        text-align: right;\n",
       "    }\n",
       "</style>\n",
       "<table border=\"1\" class=\"dataframe\">\n",
       "  <thead>\n",
       "    <tr style=\"text-align: right;\">\n",
       "      <th></th>\n",
       "      <th>vin_nbr</th>\n",
       "      <th>charge_start_timstm</th>\n",
       "      <th>charge_end_timstm</th>\n",
       "      <th>charge_kwh_qty</th>\n",
       "      <th>element_cd</th>\n",
       "      <th>min</th>\n",
       "      <th>max</th>\n",
       "      <th>diff</th>\n",
       "      <th>pwr_percent</th>\n",
       "    </tr>\n",
       "  </thead>\n",
       "  <tbody>\n",
       "    <tr>\n",
       "      <th>1</th>\n",
       "      <td>1G1FW6S00H4124761</td>\n",
       "      <td>2020-06-19 07:53:34</td>\n",
       "      <td>2020-06-19 12:02:46</td>\n",
       "      <td>29.0</td>\n",
       "      <td>LIFETIME_ENERGY_USED</td>\n",
       "      <td>27445.1</td>\n",
       "      <td>27474.1</td>\n",
       "      <td>29.0</td>\n",
       "      <td>100.0</td>\n",
       "    </tr>\n",
       "    <tr>\n",
       "      <th>3</th>\n",
       "      <td>1G1FW6S00H4128311</td>\n",
       "      <td>2020-06-18 20:00:16</td>\n",
       "      <td>2020-06-19 08:10:08</td>\n",
       "      <td>13.1</td>\n",
       "      <td>LIFETIME_ENERGY_USED</td>\n",
       "      <td>17447.2</td>\n",
       "      <td>17460.3</td>\n",
       "      <td>13.1</td>\n",
       "      <td>100.0</td>\n",
       "    </tr>\n",
       "    <tr>\n",
       "      <th>4</th>\n",
       "      <td>1G1FW6S00H4128776</td>\n",
       "      <td>2020-06-18 19:01:26</td>\n",
       "      <td>2020-06-18 20:59:21</td>\n",
       "      <td>13.9</td>\n",
       "      <td>LIFETIME_ENERGY_USED</td>\n",
       "      <td>13006.6</td>\n",
       "      <td>13020.5</td>\n",
       "      <td>13.9</td>\n",
       "      <td>100.0</td>\n",
       "    </tr>\n",
       "    <tr>\n",
       "      <th>5</th>\n",
       "      <td>1G1FW6S00H4129166</td>\n",
       "      <td>2020-06-18 17:24:18</td>\n",
       "      <td>2020-06-18 22:04:47</td>\n",
       "      <td>32.9</td>\n",
       "      <td>LIFETIME_ENERGY_USED</td>\n",
       "      <td>27827.1</td>\n",
       "      <td>27860.0</td>\n",
       "      <td>32.9</td>\n",
       "      <td>100.0</td>\n",
       "    </tr>\n",
       "    <tr>\n",
       "      <th>6</th>\n",
       "      <td>1G1FW6S00H4129636</td>\n",
       "      <td>2020-06-18 20:00:37</td>\n",
       "      <td>2020-06-18 21:01:15</td>\n",
       "      <td>7.3</td>\n",
       "      <td>LIFETIME_ENERGY_USED</td>\n",
       "      <td>16701.2</td>\n",
       "      <td>16708.5</td>\n",
       "      <td>7.3</td>\n",
       "      <td>100.0</td>\n",
       "    </tr>\n",
       "  </tbody>\n",
       "</table>\n",
       "</div>"
      ],
      "text/plain": [
       "             vin_nbr  charge_start_timstm    charge_end_timstm  \\\n",
       "1  1G1FW6S00H4124761  2020-06-19 07:53:34  2020-06-19 12:02:46   \n",
       "3  1G1FW6S00H4128311  2020-06-18 20:00:16  2020-06-19 08:10:08   \n",
       "4  1G1FW6S00H4128776  2020-06-18 19:01:26  2020-06-18 20:59:21   \n",
       "5  1G1FW6S00H4129166  2020-06-18 17:24:18  2020-06-18 22:04:47   \n",
       "6  1G1FW6S00H4129636  2020-06-18 20:00:37  2020-06-18 21:01:15   \n",
       "\n",
       "   charge_kwh_qty            element_cd      min      max  diff  pwr_percent  \n",
       "1            29.0  LIFETIME_ENERGY_USED  27445.1  27474.1  29.0        100.0  \n",
       "3            13.1  LIFETIME_ENERGY_USED  17447.2  17460.3  13.1        100.0  \n",
       "4            13.9  LIFETIME_ENERGY_USED  13006.6  13020.5  13.9        100.0  \n",
       "5            32.9  LIFETIME_ENERGY_USED  27827.1  27860.0  32.9        100.0  \n",
       "6             7.3  LIFETIME_ENERGY_USED  16701.2  16708.5   7.3        100.0  "
      ]
     },
     "execution_count": 19,
     "metadata": {},
     "output_type": "execute_result"
    }
   ],
   "source": [
    "mdata['pwr_percent'] = mdata['charge_kwh_qty']/mdata['diff']*100\n",
    "mdata.head()"
   ]
  },
  {
   "cell_type": "code",
   "execution_count": 20,
   "metadata": {},
   "outputs": [
    {
     "name": "stdout",
     "output_type": "stream",
     "text": [
      "<class 'pandas.core.frame.DataFrame'>\n",
      "Int64Index: 21425 entries, 1 to 37417\n",
      "Data columns (total 9 columns):\n",
      " #   Column               Non-Null Count  Dtype  \n",
      "---  ------               --------------  -----  \n",
      " 0   vin_nbr              21425 non-null  object \n",
      " 1   charge_start_timstm  21425 non-null  object \n",
      " 2   charge_end_timstm    21425 non-null  object \n",
      " 3   charge_kwh_qty       21425 non-null  float64\n",
      " 4   element_cd           21425 non-null  object \n",
      " 5   min                  21425 non-null  float64\n",
      " 6   max                  21425 non-null  float64\n",
      " 7   diff                 21425 non-null  float64\n",
      " 8   pwr_percent          21425 non-null  float64\n",
      "dtypes: float64(5), object(4)\n",
      "memory usage: 1.6+ MB\n"
     ]
    }
   ],
   "source": [
    "mdata.info()"
   ]
  },
  {
   "cell_type": "code",
   "execution_count": 21,
   "metadata": {},
   "outputs": [
    {
     "data": {
      "text/plain": [
       "-2087.500000001899"
      ]
     },
     "execution_count": 21,
     "metadata": {},
     "output_type": "execute_result"
    }
   ],
   "source": [
    "mdata['pwr_percent'].min()"
   ]
  },
  {
   "cell_type": "code",
   "execution_count": 22,
   "metadata": {},
   "outputs": [
    {
     "data": {
      "text/plain": [
       "308699.99999992986"
      ]
     },
     "execution_count": 22,
     "metadata": {},
     "output_type": "execute_result"
    }
   ],
   "source": [
    "mdata['pwr_percent'].max()"
   ]
  },
  {
   "cell_type": "code",
   "execution_count": 23,
   "metadata": {},
   "outputs": [],
   "source": [
    "mdata['bins'] = pd.cut(mdata['pwr_percent'],bins = [float(\"-inf\"),90,95,99,100.0001,float(\"inf\")], labels = [\"Below 90%\", \"90%-95%\",\"95%-99%\",\"99%-100%\",\"Over 100%\"])\n",
    "pie_data = mdata.groupby('bins').size()"
   ]
  },
  {
   "cell_type": "code",
   "execution_count": 24,
   "metadata": {},
   "outputs": [
    {
     "data": {
      "text/plain": [
       "bins\n",
       "Below 90%     3155\n",
       "90%-95%        198\n",
       "95%-99%        225\n",
       "99%-100%     11218\n",
       "Over 100%     6629\n",
       "dtype: int64"
      ]
     },
     "execution_count": 24,
     "metadata": {},
     "output_type": "execute_result"
    }
   ],
   "source": [
    "pie_data"
   ]
  },
  {
   "cell_type": "code",
   "execution_count": 25,
   "metadata": {},
   "outputs": [
    {
     "data": {
      "text/plain": [
       "<matplotlib.axes._subplots.AxesSubplot at 0x10f06a87dc8>"
      ]
     },
     "execution_count": 25,
     "metadata": {},
     "output_type": "execute_result"
    },
    {
     "data": {
      "image/png": "[encoded data removed]",
      "text/plain": [
       "<Figure size 504x504 with 1 Axes>"
      ]
     },
     "metadata": {},
     "output_type": "display_data"
    }
   ],
   "source": [
    "pie_data.plot.pie(figsize=(7,7))"
   ]
  },
  {
   "cell_type": "code",
   "execution_count": 26,
   "metadata": {},
   "outputs": [
    {
     "data": {
      "text/html": [
       "<div>\n",
       "<style scoped>\n",
       "    .dataframe tbody tr th:only-of-type {\n",
       "        vertical-align: middle;\n",
       "    }\n",
       "\n",
       "    .dataframe tbody tr th {\n",
       "        vertical-align: top;\n",
       "    }\n",
       "\n",
       "    .dataframe thead th {\n",
       "        text-align: right;\n",
       "    }\n",
       "</style>\n",
       "<table border=\"1\" class=\"dataframe\">\n",
       "  <thead>\n",
       "    <tr style=\"text-align: right;\">\n",
       "      <th></th>\n",
       "      <th>vin_nbr</th>\n",
       "      <th>charge_start_timstm</th>\n",
       "      <th>charge_end_timstm</th>\n",
       "      <th>charge_kwh_qty</th>\n",
       "      <th>element_cd</th>\n",
       "      <th>min</th>\n",
       "      <th>max</th>\n",
       "      <th>diff</th>\n",
       "      <th>pwr_percent</th>\n",
       "      <th>bins</th>\n",
       "    </tr>\n",
       "  </thead>\n",
       "  <tbody>\n",
       "    <tr>\n",
       "      <th>7</th>\n",
       "      <td>1G1FW6S00H4130091</td>\n",
       "      <td>2020-06-18 17:46:14</td>\n",
       "      <td>2020-06-19 06:23:08</td>\n",
       "      <td>21.8</td>\n",
       "      <td>LIFETIME_ENERGY_USED</td>\n",
       "      <td>8610.8</td>\n",
       "      <td>8621.7</td>\n",
       "      <td>10.9</td>\n",
       "      <td>200.000000</td>\n",
       "      <td>Over 100%</td>\n",
       "    </tr>\n",
       "    <tr>\n",
       "      <th>18</th>\n",
       "      <td>1G1FW6S00H4137820</td>\n",
       "      <td>2020-06-18 11:21:34</td>\n",
       "      <td>2020-06-19 12:22:05</td>\n",
       "      <td>47.0</td>\n",
       "      <td>LIFETIME_ENERGY_USED</td>\n",
       "      <td>16251.2</td>\n",
       "      <td>16273.2</td>\n",
       "      <td>22.0</td>\n",
       "      <td>213.636364</td>\n",
       "      <td>Over 100%</td>\n",
       "    </tr>\n",
       "    <tr>\n",
       "      <th>19</th>\n",
       "      <td>1G1FW6S00H4138028</td>\n",
       "      <td>2020-06-18 14:49:07</td>\n",
       "      <td>2020-06-19 05:19:17</td>\n",
       "      <td>18.1</td>\n",
       "      <td>LIFETIME_ENERGY_USED</td>\n",
       "      <td>10830.5</td>\n",
       "      <td>10843.5</td>\n",
       "      <td>13.0</td>\n",
       "      <td>139.230769</td>\n",
       "      <td>Over 100%</td>\n",
       "    </tr>\n",
       "    <tr>\n",
       "      <th>21</th>\n",
       "      <td>1G1FW6S00H4138174</td>\n",
       "      <td>2020-06-18 14:16:04</td>\n",
       "      <td>2020-06-19 06:16:00</td>\n",
       "      <td>1.3</td>\n",
       "      <td>LIFETIME_ENERGY_USED</td>\n",
       "      <td>16198.4</td>\n",
       "      <td>16199.0</td>\n",
       "      <td>0.6</td>\n",
       "      <td>216.666667</td>\n",
       "      <td>Over 100%</td>\n",
       "    </tr>\n",
       "    <tr>\n",
       "      <th>23</th>\n",
       "      <td>1G1FW6S00H4138644</td>\n",
       "      <td>2020-06-17 18:17:49</td>\n",
       "      <td>2020-06-19 05:36:30</td>\n",
       "      <td>108.6</td>\n",
       "      <td>LIFETIME_ENERGY_USED</td>\n",
       "      <td>20568.5</td>\n",
       "      <td>20579.4</td>\n",
       "      <td>10.9</td>\n",
       "      <td>996.330275</td>\n",
       "      <td>Over 100%</td>\n",
       "    </tr>\n",
       "  </tbody>\n",
       "</table>\n",
       "</div>"
      ],
      "text/plain": [
       "              vin_nbr  charge_start_timstm    charge_end_timstm  \\\n",
       "7   1G1FW6S00H4130091  2020-06-18 17:46:14  2020-06-19 06:23:08   \n",
       "18  1G1FW6S00H4137820  2020-06-18 11:21:34  2020-06-19 12:22:05   \n",
       "19  1G1FW6S00H4138028  2020-06-18 14:49:07  2020-06-19 05:19:17   \n",
       "21  1G1FW6S00H4138174  2020-06-18 14:16:04  2020-06-19 06:16:00   \n",
       "23  1G1FW6S00H4138644  2020-06-17 18:17:49  2020-06-19 05:36:30   \n",
       "\n",
       "    charge_kwh_qty            element_cd      min      max  diff  pwr_percent  \\\n",
       "7             21.8  LIFETIME_ENERGY_USED   8610.8   8621.7  10.9   200.000000   \n",
       "18            47.0  LIFETIME_ENERGY_USED  16251.2  16273.2  22.0   213.636364   \n",
       "19            18.1  LIFETIME_ENERGY_USED  10830.5  10843.5  13.0   139.230769   \n",
       "21             1.3  LIFETIME_ENERGY_USED  16198.4  16199.0   0.6   216.666667   \n",
       "23           108.6  LIFETIME_ENERGY_USED  20568.5  20579.4  10.9   996.330275   \n",
       "\n",
       "         bins  \n",
       "7   Over 100%  \n",
       "18  Over 100%  \n",
       "19  Over 100%  \n",
       "21  Over 100%  \n",
       "23  Over 100%  "
      ]
     },
     "execution_count": 26,
     "metadata": {},
     "output_type": "execute_result"
    }
   ],
   "source": [
    "gooddata = mdata[mdata['bins'] != \"Over 100%\"].index\n",
    "rdata = mdata.drop(gooddata,axis = 0)\n",
    "rdata.head()"
   ]
  },
  {
   "cell_type": "code",
   "execution_count": 27,
   "metadata": {},
   "outputs": [],
   "source": [
    "rdata.to_csv('EnginePowerOutput.csv')"
   ]
  },
  {
   "cell_type": "code",
   "execution_count": null,
   "metadata": {},
   "outputs": [],
   "source": []
  }
 ],
 "metadata": {
  "kernelspec": {
   "display_name": "Python 3",
   "language": "python",
   "name": "python3"
  },
  "language_info": {
   "codemirror_mode": {
    "name": "ipython",
    "version": 3
   },
   "file_extension": ".py",
   "mimetype": "text/x-python",
   "name": "python",
   "nbconvert_exporter": "python",
   "pygments_lexer": "ipython3",
   "version": "3.7.6"
  }
 },
 "nbformat": 4,
 "nbformat_minor": 4
}
